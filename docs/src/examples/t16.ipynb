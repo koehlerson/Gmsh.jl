{
 "cells": [
  {
   "cell_type": "markdown",
   "source": [
    "# Tutorial 16\n",
    "\n",
    "## Constructive Solid Geometry, OpenCASCADE geometry kernel\n",
    "\n",
    "Instead of constructing a model in a bottom-up fashion with Gmsh's built-in\n",
    "geometry kernel, starting with version 3 Gmsh allows you to directly use\n",
    "alternative geometry kernels. Here we will use the OpenCASCADE kernel."
   ],
   "metadata": {}
  },
  {
   "outputs": [],
   "cell_type": "code",
   "source": [
    "import gmsh"
   ],
   "metadata": {},
   "execution_count": 1
  },
  {
   "outputs": [],
   "cell_type": "code",
   "source": [
    "gmsh.initialize()"
   ],
   "metadata": {},
   "execution_count": 2
  },
  {
   "outputs": [],
   "cell_type": "code",
   "source": [
    "gmsh.model.add(\"t16\")"
   ],
   "metadata": {},
   "execution_count": 3
  },
  {
   "cell_type": "markdown",
   "source": [
    "Let's build the same model as in `t5.py', but using constructive solid\n",
    "geometry.\n",
    "We first create two cubes:"
   ],
   "metadata": {}
  },
  {
   "outputs": [
    {
     "output_type": "execute_result",
     "data": {
      "text/plain": "2"
     },
     "metadata": {},
     "execution_count": 4
    }
   ],
   "cell_type": "code",
   "source": [
    "gmsh.model.occ.addBox(0,0,0, 1,1,1, 1)\n",
    "gmsh.model.occ.addBox(0,0,0, 0.5,0.5,0.5, 2)"
   ],
   "metadata": {},
   "execution_count": 4
  },
  {
   "cell_type": "markdown",
   "source": [
    "We apply a boolean difference to create the \"cube minus one eigth\" shape:"
   ],
   "metadata": {}
  },
  {
   "outputs": [
    {
     "output_type": "execute_result",
     "data": {
      "text/plain": "(Tuple{Int32,Int32}[(3, 3)], Array{Tuple{Int32,Int32},1}[[(3, 3)], []])"
     },
     "metadata": {},
     "execution_count": 5
    }
   ],
   "cell_type": "code",
   "source": [
    "gmsh.model.occ.cut([(3,1)], [(3,2)], 3)"
   ],
   "metadata": {},
   "execution_count": 5
  },
  {
   "cell_type": "markdown",
   "source": [
    "Boolean operations with OpenCASCADE always create new entities. By default the\n",
    "extra arguments `removeObject' and `removeTool' in `cut()' are set to `True',\n",
    "which will delete the original entities.\n",
    "\n",
    "We then create the five spheres:"
   ],
   "metadata": {}
  },
  {
   "outputs": [
    {
     "output_type": "execute_result",
     "data": {
      "text/plain": "0.09"
     },
     "metadata": {},
     "execution_count": 6
    }
   ],
   "cell_type": "code",
   "source": [
    "x = 0; y = 0.75; z = 0; r = 0.09"
   ],
   "metadata": {},
   "execution_count": 6
  },
  {
   "outputs": [],
   "cell_type": "code",
   "source": [
    "holes = []\n",
    "for t in 1:5\n",
    "    global x, z\n",
    "    x += 0.166\n",
    "    z += 0.166\n",
    "    gmsh.model.occ.addSphere(x,y,z,r, 3 + t)\n",
    "    t = (3, 3 + t)\n",
    "    push!(holes, t)\n",
    "end"
   ],
   "metadata": {},
   "execution_count": 7
  },
  {
   "cell_type": "markdown",
   "source": [
    "If we had wanted five empty holes we would have used `cut()' again. Here we\n",
    "want five spherical inclusions, whose mesh should be conformal with the mesh\n",
    "of the cube: we thus use `fragment()', which intersects all volumes in a\n",
    "conformal manner (without creating duplicate interfaces):"
   ],
   "metadata": {}
  },
  {
   "outputs": [],
   "cell_type": "code",
   "source": [
    "ov = gmsh.model.occ.fragment([(3,3)], holes)\n",
    "gmsh.model.occ.synchronize()"
   ],
   "metadata": {},
   "execution_count": 8
  },
  {
   "cell_type": "markdown",
   "source": [
    "Creating entities using constructive solid geometry is very powerful, but can\n",
    "lead to practical issues for e.g. setting mesh sizes at points, or identifying\n",
    "boundaries.\n",
    "\n",
    "To identify points or other bounding entities you can take advantage of the\n",
    "`getEntities()', `getBoundary()' and `getEntitiesInBoundingBox()' functions:"
   ],
   "metadata": {}
  },
  {
   "outputs": [
    {
     "output_type": "execute_result",
     "data": {
      "text/plain": "0.055"
     },
     "metadata": {},
     "execution_count": 9
    }
   ],
   "cell_type": "code",
   "source": [
    "lcar1 = .1\n",
    "lcar2 = .0005\n",
    "lcar3 = .055"
   ],
   "metadata": {},
   "execution_count": 9
  },
  {
   "cell_type": "markdown",
   "source": [
    "Assign a mesh size to all the points:"
   ],
   "metadata": {}
  },
  {
   "outputs": [],
   "cell_type": "code",
   "source": [
    "ov = gmsh.model.getEntities(0);\n",
    "gmsh.model.mesh.setSize(ov, lcar1);"
   ],
   "metadata": {},
   "execution_count": 10
  },
  {
   "cell_type": "markdown",
   "source": [
    "Override this constraint on the points of the five spheres:"
   ],
   "metadata": {}
  },
  {
   "outputs": [],
   "cell_type": "code",
   "source": [
    "ov = gmsh.model.getBoundary(holes, false, false, true);\n",
    "gmsh.model.mesh.setSize(ov, lcar3);"
   ],
   "metadata": {},
   "execution_count": 11
  },
  {
   "cell_type": "markdown",
   "source": [
    "Select the corner point by searching for it geometrically:"
   ],
   "metadata": {}
  },
  {
   "outputs": [],
   "cell_type": "code",
   "source": [
    "eps = 1e-3\n",
    "ov = gmsh.model.getEntitiesInBoundingBox(0.5-eps, 0.5-eps, 0.5-eps,\n",
    "                                         0.5+eps, 0.5+eps, 0.5+eps, 0)\n",
    "gmsh.model.mesh.setSize(ov, lcar2)"
   ],
   "metadata": {},
   "execution_count": 12
  },
  {
   "outputs": [
    {
     "name": "stdout",
     "output_type": "stream",
     "text": [
      "Info    : Meshing 1D...\n",
      "Info    : [ 10%] Meshing curve 23 (Circle)\n",
      "Info    : [ 20%] Meshing curve 26 (Circle)\n",
      "Info    : [ 20%] Meshing curve 29 (Circle)\n",
      "Info    : [ 30%] Meshing curve 32 (Circle)\n",
      "Info    : [ 40%] Meshing curve 35 (Circle)\n",
      "Info    : [ 50%] Meshing curve 37 (Line)\n",
      "Info    : [ 50%] Meshing curve 38 (Line)\n",
      "Info    : [ 50%] Meshing curve 39 (Line)\n",
      "Info    : [ 50%] Meshing curve 40 (Line)\n",
      "Info    : [ 60%] Meshing curve 41 (Line)\n",
      "Info    : [ 60%] Meshing curve 42 (Line)\n",
      "Info    : [ 60%] Meshing curve 43 (Line)\n",
      "Info    : [ 70%] Meshing curve 44 (Line)\n",
      "Info    : [ 70%] Meshing curve 45 (Line)\n",
      "Info    : [ 70%] Meshing curve 46 (Line)\n",
      "Info    : [ 70%] Meshing curve 47 (Line)\n",
      "Info    : [ 80%] Meshing curve 48 (Line)\n",
      "Info    : [ 80%] Meshing curve 49 (Line)\n",
      "Info    : [ 80%] Meshing curve 50 (Line)\n",
      "Info    : [ 90%] Meshing curve 51 (Line)\n",
      "Info    : [ 90%] Meshing curve 52 (Line)\n",
      "Info    : [ 90%] Meshing curve 53 (Line)\n",
      "Info    : [ 90%] Meshing curve 54 (Line)\n",
      "Info    : [100%] Meshing curve 55 (Line)\n",
      "Info    : [100%] Meshing curve 56 (Line)\n",
      "Info    : [100%] Meshing curve 57 (Line)\n",
      "Info    : Done meshing 1D (Wall 0.0171265s, CPU 0.017047s)\n",
      "Info    : Meshing 2D...\n",
      "Info    : [  0%] Meshing surface 10 (Sphere, Frontal-Delaunay)\n",
      "Info    : [ 10%] Meshing surface 11 (Sphere, Frontal-Delaunay)\n",
      "Info    : [ 20%] Meshing surface 12 (Sphere, Frontal-Delaunay)\n",
      "Info    : [ 30%] Meshing surface 13 (Sphere, Frontal-Delaunay)\n",
      "Info    : [ 30%] Meshing surface 14 (Sphere, Frontal-Delaunay)\n",
      "Info    : [ 40%] Meshing surface 15 (Plane, Frontal-Delaunay)\n",
      "Info    : [ 50%] Meshing surface 16 (Plane, Frontal-Delaunay)\n",
      "Info    : [ 50%] Meshing surface 17 (Plane, Frontal-Delaunay)\n",
      "Info    : [ 60%] Meshing surface 18 (Plane, Frontal-Delaunay)\n",
      "Info    : [ 70%] Meshing surface 19 (Plane, Frontal-Delaunay)\n",
      "Info    : [ 80%] Meshing surface 20 (Plane, Frontal-Delaunay)\n",
      "Info    : [ 80%] Meshing surface 21 (Plane, Frontal-Delaunay)\n",
      "Info    : [ 90%] Meshing surface 22 (Plane, Frontal-Delaunay)\n",
      "Info    : [100%] Meshing surface 23 (Plane, Frontal-Delaunay)\n",
      "Info    : Done meshing 2D (Wall 0.0733424s, CPU 0.07326s)\n",
      "Info    : Meshing 3D...\n",
      "Info    : 3D Meshing 6 volumes with 1 connected component\n",
      "Info    : Tetrahedrizing 1544 nodes...\n",
      "Info    : Done tetrahedrizing 1552 nodes (Wall 0.0210794s, CPU 0.021066s)\n",
      "Info    : Reconstructing mesh...\n",
      "Info    :  - Creating surface mesh\n",
      "Info    :  - Identifying boundary edges\n",
      "Info    :  - Recovering boundary\n",
      "Info    : Done reconstructing mesh (Wall 0.0404105s, CPU 0.039501s)\n",
      "Info    : Found volume 9\n",
      "Info    : Found volume 7\n",
      "Info    : Found volume 8\n",
      "Info    : Found volume 6\n",
      "Info    : Found volume 5\n",
      "Info    : Found volume 4\n",
      "Info    : It. 0 - 0 nodes created - worst tet radius 17.8095 (nodes removed 0 0)\n",
      "Info    : It. 500 - 500 nodes created - worst tet radius 1.48792 (nodes removed 0 0)\n",
      "Info    : It. 1000 - 995 nodes created - worst tet radius 1.15872 (nodes removed 0 5)\n",
      "Info    : It. 1500 - 1494 nodes created - worst tet radius 1.01267 (nodes removed 0 6)\n",
      "Info    : 3D refinement terminated (3099 nodes total):\n",
      "Info    :  - 0 Delaunay cavities modified for star shapeness\n",
      "Info    :  - 6 nodes could not be inserted\n",
      "Info    :  - 15361 tetrahedra created in 0.0786029 sec. (195425 tets/s)\n",
      "Info    : Done meshing 3D (Wall 0.171217s, CPU 0.157014s)\n",
      "Info    : Optimizing mesh...\n",
      "Info    : Optimizing volume 4\n",
      "Info    : Optimization starts (volume = 0.00274607) with worst = 0.0645013 / average = 0.6835:\n",
      "Info    : 0.00 < quality < 0.10 :         2 elements\n",
      "Info    : 0.10 < quality < 0.20 :         1 elements\n",
      "Info    : 0.20 < quality < 0.30 :         6 elements\n",
      "Info    : 0.30 < quality < 0.40 :         2 elements\n",
      "Info    : 0.40 < quality < 0.50 :         4 elements\n",
      "Info    : 0.50 < quality < 0.60 :        18 elements\n",
      "Info    : 0.60 < quality < 0.70 :        55 elements\n",
      "Info    : 0.70 < quality < 0.80 :        40 elements\n",
      "Info    : 0.80 < quality < 0.90 :        24 elements\n",
      "Info    : 0.90 < quality < 1.00 :        14 elements\n",
      "Info    : 7 edge swaps, 0 node relocations (volume = 0.00274607): worst = 0.235857 / average = 0.702262 (Wall 0.000175476s, CPU 0.000152s)\n",
      "Info    : No ill-shaped tets in the mesh :-)\n",
      "Info    : 0.00 < quality < 0.10 :         0 elements\n",
      "Info    : 0.10 < quality < 0.20 :         0 elements\n",
      "Info    : 0.20 < quality < 0.30 :         1 elements\n",
      "Info    : 0.30 < quality < 0.40 :         3 elements\n",
      "Info    : 0.40 < quality < 0.50 :         5 elements\n",
      "Info    : 0.50 < quality < 0.60 :        18 elements\n",
      "Info    : 0.60 < quality < 0.70 :        60 elements\n",
      "Info    : 0.70 < quality < 0.80 :        36 elements\n",
      "Info    : 0.80 < quality < 0.90 :        24 elements\n",
      "Info    : 0.90 < quality < 1.00 :        14 elements\n",
      "Info    : Optimizing volume 5\n",
      "Info    : Optimization starts (volume = 0.00276191) with worst = 0.129736 / average = 0.718994:\n",
      "Info    : 0.00 < quality < 0.10 :         0 elements\n",
      "Info    : 0.10 < quality < 0.20 :         1 elements\n",
      "Info    : 0.20 < quality < 0.30 :         3 elements\n",
      "Info    : 0.30 < quality < 0.40 :         7 elements\n",
      "Info    : 0.40 < quality < 0.50 :         8 elements\n",
      "Info    : 0.50 < quality < 0.60 :        12 elements\n",
      "Info    : 0.60 < quality < 0.70 :        44 elements\n",
      "Info    : 0.70 < quality < 0.80 :        42 elements\n",
      "Info    : 0.80 < quality < 0.90 :        44 elements\n",
      "Info    : 0.90 < quality < 1.00 :        19 elements\n",
      "Info    : 4 edge swaps, 0 node relocations (volume = 0.00276191): worst = 0.307511 / average = 0.733347 (Wall 8.85261e-05s, CPU 7.6e-05s)\n",
      "Info    : No ill-shaped tets in the mesh :-)\n",
      "Info    : 0.00 < quality < 0.10 :         0 elements\n",
      "Info    : 0.10 < quality < 0.20 :         0 elements\n",
      "Info    : 0.20 < quality < 0.30 :         0 elements\n",
      "Info    : 0.30 < quality < 0.40 :         7 elements\n",
      "Info    : 0.40 < quality < 0.50 :         6 elements\n",
      "Info    : 0.50 < quality < 0.60 :        13 elements\n",
      "Info    : 0.60 < quality < 0.70 :        43 elements\n",
      "Info    : 0.70 < quality < 0.80 :        43 elements\n",
      "Info    : 0.80 < quality < 0.90 :        45 elements\n",
      "Info    : 0.90 < quality < 1.00 :        19 elements\n",
      "Info    : Optimizing volume 6\n",
      "Info    : Optimization starts (volume = 0.00276698) with worst = 0.367309 / average = 0.692759:\n",
      "Info    : 0.00 < quality < 0.10 :         0 elements\n",
      "Info    : 0.10 < quality < 0.20 :         0 elements\n",
      "Info    : 0.20 < quality < 0.30 :         0 elements\n",
      "Info    : 0.30 < quality < 0.40 :         1 elements\n",
      "Info    : 0.40 < quality < 0.50 :         1 elements\n",
      "Info    : 0.50 < quality < 0.60 :         8 elements\n",
      "Info    : 0.60 < quality < 0.70 :        61 elements\n",
      "Info    : 0.70 < quality < 0.80 :        49 elements\n",
      "Info    : 0.80 < quality < 0.90 :         7 elements\n",
      "Info    : 0.90 < quality < 1.00 :         2 elements\n",
      "Info    : No ill-shaped tets in the mesh :-)\n",
      "Info    : 0.00 < quality < 0.10 :         0 elements\n",
      "Info    : 0.10 < quality < 0.20 :         0 elements\n",
      "Info    : 0.20 < quality < 0.30 :         0 elements\n",
      "Info    : 0.30 < quality < 0.40 :         1 elements\n",
      "Info    : 0.40 < quality < 0.50 :         1 elements\n",
      "Info    : 0.50 < quality < 0.60 :         8 elements\n",
      "Info    : 0.60 < quality < 0.70 :        61 elements\n",
      "Info    : 0.70 < quality < 0.80 :        49 elements\n",
      "Info    : 0.80 < quality < 0.90 :         7 elements\n",
      "Info    : 0.90 < quality < 1.00 :         2 elements\n",
      "Info    : Optimizing volume 7\n",
      "Info    : Optimization starts (volume = 0.00276598) with worst = 0.365291 / average = 0.676623:\n",
      "Info    : 0.00 < quality < 0.10 :         0 elements\n",
      "Info    : 0.10 < quality < 0.20 :         0 elements\n",
      "Info    : 0.20 < quality < 0.30 :         0 elements\n",
      "Info    : 0.30 < quality < 0.40 :         1 elements\n",
      "Info    : 0.40 < quality < 0.50 :         0 elements\n",
      "Info    : 0.50 < quality < 0.60 :        11 elements\n",
      "Info    : 0.60 < quality < 0.70 :        56 elements\n",
      "Info    : 0.70 < quality < 0.80 :        49 elements\n",
      "Info    : 0.80 < quality < 0.90 :         1 elements\n",
      "Info    : 0.90 < quality < 1.00 :         0 elements\n",
      "Info    : No ill-shaped tets in the mesh :-)\n",
      "Info    : 0.00 < quality < 0.10 :         0 elements\n",
      "Info    : 0.10 < quality < 0.20 :         0 elements\n",
      "Info    : 0.20 < quality < 0.30 :         0 elements\n",
      "Info    : 0.30 < quality < 0.40 :         1 elements\n",
      "Info    : 0.40 < quality < 0.50 :         0 elements\n",
      "Info    : 0.50 < quality < 0.60 :        11 elements\n",
      "Info    : 0.60 < quality < 0.70 :        56 elements\n",
      "Info    : 0.70 < quality < 0.80 :        49 elements\n",
      "Info    : 0.80 < quality < 0.90 :         1 elements\n",
      "Info    : 0.90 < quality < 1.00 :         0 elements\n",
      "Info    : Optimizing volume 8\n",
      "Info    : Optimization starts (volume = 0.00276698) with worst = 0.316093 / average = 0.707489:\n",
      "Info    : 0.00 < quality < 0.10 :         0 elements\n",
      "Info    : 0.10 < quality < 0.20 :         0 elements\n",
      "Info    : 0.20 < quality < 0.30 :         0 elements\n",
      "Info    : 0.30 < quality < 0.40 :         3 elements\n",
      "Info    : 0.40 < quality < 0.50 :         3 elements\n",
      "Info    : 0.50 < quality < 0.60 :        12 elements\n",
      "Info    : 0.60 < quality < 0.70 :        53 elements\n",
      "Info    : 0.70 < quality < 0.80 :        51 elements\n",
      "Info    : 0.80 < quality < 0.90 :        21 elements\n",
      "Info    : 0.90 < quality < 1.00 :         7 elements\n",
      "Info    : No ill-shaped tets in the mesh :-)\n",
      "Info    : 0.00 < quality < 0.10 :         0 elements\n",
      "Info    : 0.10 < quality < 0.20 :         0 elements\n",
      "Info    : 0.20 < quality < 0.30 :         0 elements\n",
      "Info    : 0.30 < quality < 0.40 :         3 elements\n",
      "Info    : 0.40 < quality < 0.50 :         3 elements\n",
      "Info    : 0.50 < quality < 0.60 :        12 elements\n",
      "Info    : 0.60 < quality < 0.70 :        53 elements\n",
      "Info    : 0.70 < quality < 0.80 :        51 elements\n",
      "Info    : 0.80 < quality < 0.90 :        21 elements\n",
      "Info    : 0.90 < quality < 1.00 :         7 elements\n",
      "Info    : Optimizing volume 9\n",
      "Info    : Optimization starts (volume = 0.861192) with worst = 0.00648771 / average = 0.741116:\n",
      "Info    : 0.00 < quality < 0.10 :        36 elements\n",
      "Info    : 0.10 < quality < 0.20 :        94 elements\n",
      "Info    : 0.20 < quality < 0.30 :       193 elements\n",
      "Info    : 0.30 < quality < 0.40 :       330 elements\n",
      "Info    : 0.40 < quality < 0.50 :       555 elements\n",
      "Info    : 0.50 < quality < 0.60 :      1269 elements\n",
      "Info    : 0.60 < quality < 0.70 :      2457 elements\n",
      "Info    : 0.70 < quality < 0.80 :      3441 elements\n",
      "Info    : 0.80 < quality < 0.90 :      4095 elements\n",
      "Info    : 0.90 < quality < 1.00 :      2145 elements\n",
      "Info    : 309 edge swaps, 9 node relocations (volume = 0.861192): worst = 0.100418 / average = 0.753608 (Wall 0.00668907s, CPU 0.006677s)\n",
      "Info    : 312 edge swaps, 11 node relocations (volume = 0.861192): worst = 0.100418 / average = 0.753623 (Wall 0.00789781s, CPU 0.007882s)\n",
      "Info    : No ill-shaped tets in the mesh :-)\n",
      "Info    : 0.00 < quality < 0.10 :         0 elements\n",
      "Info    : 0.10 < quality < 0.20 :         2 elements\n",
      "Info    : 0.20 < quality < 0.30 :         2 elements\n",
      "Info    : 0.30 < quality < 0.40 :       319 elements\n",
      "Info    : 0.40 < quality < 0.50 :       541 elements\n",
      "Info    : 0.50 < quality < 0.60 :      1253 elements\n",
      "Info    : 0.60 < quality < 0.70 :      2476 elements\n",
      "Info    : 0.70 < quality < 0.80 :      3469 elements\n",
      "Info    : 0.80 < quality < 0.90 :      4152 elements\n",
      "Info    : 0.90 < quality < 1.00 :      2123 elements\n",
      "Info    : Done optimizing mesh (Wall 0.0221329s, CPU 0.021798s)\n",
      "Info    : 3099 nodes 18412 elements\n"
     ]
    }
   ],
   "cell_type": "code",
   "source": [
    "gmsh.model.mesh.generate(3)"
   ],
   "metadata": {},
   "execution_count": 13
  },
  {
   "outputs": [
    {
     "name": "stdout",
     "output_type": "stream",
     "text": [
      "Info    : Writing 't16.msh'...\n",
      "Info    : Done writing 't16.msh'\n"
     ]
    }
   ],
   "cell_type": "code",
   "source": [
    "gmsh.write(\"t16.msh\")"
   ],
   "metadata": {},
   "execution_count": 14
  },
  {
   "outputs": [],
   "cell_type": "code",
   "source": [
    "gmsh.finalize()"
   ],
   "metadata": {},
   "execution_count": 15
  },
  {
   "cell_type": "markdown",
   "source": [
    "---\n",
    "\n",
    "*This notebook was generated using [Literate.jl](https://github.com/fredrikekre/Literate.jl).*"
   ],
   "metadata": {}
  }
 ],
 "nbformat_minor": 3,
 "metadata": {
  "language_info": {
   "file_extension": ".jl",
   "mimetype": "application/julia",
   "name": "julia",
   "version": "1.5.3"
  },
  "kernelspec": {
   "name": "julia-1.5",
   "display_name": "Julia 1.5.3",
   "language": "julia"
  }
 },
 "nbformat": 4
}
