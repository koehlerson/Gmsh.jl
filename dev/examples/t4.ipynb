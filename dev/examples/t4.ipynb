{
 "cells": [
  {
   "cell_type": "markdown",
   "source": [
    "# Tutorial 4\n",
    "\n",
    "## Holes in surfaces, annotations, entity colors"
   ],
   "metadata": {}
  },
  {
   "outputs": [],
   "cell_type": "code",
   "source": [
    "import gmsh"
   ],
   "metadata": {},
   "execution_count": 1
  },
  {
   "outputs": [],
   "cell_type": "code",
   "source": [
    "gmsh.initialize()"
   ],
   "metadata": {},
   "execution_count": 2
  },
  {
   "outputs": [],
   "cell_type": "code",
   "source": [
    "gmsh.model.add(\"t4\")"
   ],
   "metadata": {},
   "execution_count": 3
  },
  {
   "outputs": [
    {
     "output_type": "execute_result",
     "data": {
      "text/plain": "0.003"
     },
     "metadata": {},
     "execution_count": 4
    }
   ],
   "cell_type": "code",
   "source": [
    "cm = 1e-02\n",
    "e1 = 4.5 * cm; e2 = 6 * cm / 2; e3 =  5 * cm / 2\n",
    "h1 = 5 * cm; h2 = 10 * cm; h3 = 5 * cm; h4 = 2 * cm; h5 = 4.5 * cm\n",
    "R1 = 1 * cm; R2 = 1.5 * cm; r = 1 * cm\n",
    "Lc1 = 0.01\n",
    "Lc2 = 0.003"
   ],
   "metadata": {},
   "execution_count": 4
  },
  {
   "outputs": [
    {
     "output_type": "execute_result",
     "data": {
      "text/plain": "hypot (generic function with 1 method)"
     },
     "metadata": {},
     "execution_count": 5
    }
   ],
   "cell_type": "code",
   "source": [
    "function hypot(a, b)\n",
    "    return sqrt(a * a + b * b)\n",
    "end"
   ],
   "metadata": {},
   "execution_count": 5
  },
  {
   "outputs": [
    {
     "output_type": "execute_result",
     "data": {
      "text/plain": "0.9119702176296789"
     },
     "metadata": {},
     "execution_count": 6
    }
   ],
   "cell_type": "code",
   "source": [
    "ccos = (-h5*R1 + e2 * hypot(h5, hypot(e2, R1))) / (h5*h5 + e2*e2)\n",
    "ssin = sqrt(1 - ccos*ccos)"
   ],
   "metadata": {},
   "execution_count": 6
  },
  {
   "cell_type": "markdown",
   "source": [
    "We start by defining some points and some lines. To make the code shorter we\n",
    "can redefine a namespace:"
   ],
   "metadata": {}
  },
  {
   "outputs": [
    {
     "output_type": "execute_result",
     "data": {
      "text/plain": "13"
     },
     "metadata": {},
     "execution_count": 7
    }
   ],
   "cell_type": "code",
   "source": [
    "factory = gmsh.model.geo\n",
    "factory.addPoint(-e1-e2, 0    , 0, Lc1, 1)\n",
    "factory.addPoint(-e1-e2, h1   , 0, Lc1, 2)\n",
    "factory.addPoint(-e3-r , h1   , 0, Lc2, 3)\n",
    "factory.addPoint(-e3-r , h1+r , 0, Lc2, 4)\n",
    "factory.addPoint(-e3   , h1+r , 0, Lc2, 5)\n",
    "factory.addPoint(-e3   , h1+h2, 0, Lc1, 6)\n",
    "factory.addPoint( e3   , h1+h2, 0, Lc1, 7)\n",
    "factory.addPoint( e3   , h1+r , 0, Lc2, 8)\n",
    "factory.addPoint( e3+r , h1+r , 0, Lc2, 9)\n",
    "factory.addPoint( e3+r , h1   , 0, Lc2, 10)\n",
    "factory.addPoint( e1+e2, h1   , 0, Lc1, 11)\n",
    "factory.addPoint( e1+e2, 0    , 0, Lc1, 12)\n",
    "factory.addPoint( e2   , 0    , 0, Lc1, 13)"
   ],
   "metadata": {},
   "execution_count": 7
  },
  {
   "outputs": [
    {
     "output_type": "execute_result",
     "data": {
      "text/plain": "17"
     },
     "metadata": {},
     "execution_count": 8
    }
   ],
   "cell_type": "code",
   "source": [
    "factory.addPoint( R1 / ssin, h5+R1*ccos, 0, Lc2, 14)\n",
    "factory.addPoint( 0        , h5        , 0, Lc2, 15)\n",
    "factory.addPoint(-R1 / ssin, h5+R1*ccos, 0, Lc2, 16)\n",
    "factory.addPoint(-e2       , 0.0       , 0, Lc1, 17)"
   ],
   "metadata": {},
   "execution_count": 8
  },
  {
   "outputs": [
    {
     "output_type": "execute_result",
     "data": {
      "text/plain": "23"
     },
     "metadata": {},
     "execution_count": 9
    }
   ],
   "cell_type": "code",
   "source": [
    "factory.addPoint(-R2 , h1+h3   , 0, Lc2, 18)\n",
    "factory.addPoint(-R2 , h1+h3+h4, 0, Lc2, 19)\n",
    "factory.addPoint( 0  , h1+h3+h4, 0, Lc2, 20)\n",
    "factory.addPoint( R2 , h1+h3+h4, 0, Lc2, 21)\n",
    "factory.addPoint( R2 , h1+h3   , 0, Lc2, 22)\n",
    "factory.addPoint( 0  , h1+h3   , 0, Lc2, 23)"
   ],
   "metadata": {},
   "execution_count": 9
  },
  {
   "outputs": [
    {
     "output_type": "execute_result",
     "data": {
      "text/plain": "25"
     },
     "metadata": {},
     "execution_count": 10
    }
   ],
   "cell_type": "code",
   "source": [
    "factory.addPoint( 0, h1+h3+h4+R2, 0, Lc2, 24)\n",
    "factory.addPoint( 0, h1+h3-R2,    0, Lc2, 25)"
   ],
   "metadata": {},
   "execution_count": 10
  },
  {
   "outputs": [
    {
     "output_type": "execute_result",
     "data": {
      "text/plain": "2"
     },
     "metadata": {},
     "execution_count": 11
    }
   ],
   "cell_type": "code",
   "source": [
    "factory.addLine(1 , 17, 1)\n",
    "factory.addLine(17, 16, 2)"
   ],
   "metadata": {},
   "execution_count": 11
  },
  {
   "cell_type": "markdown",
   "source": [
    "Gmsh provides other curve primitives than straight lines: splines, B-splines,\n",
    "circle arcs, ellipse arcs, etc. Here we define a new circle arc, starting at\n",
    "point 14 and ending at point 16, with the circle's center being the point 15:"
   ],
   "metadata": {}
  },
  {
   "outputs": [
    {
     "output_type": "execute_result",
     "data": {
      "text/plain": "3"
     },
     "metadata": {},
     "execution_count": 12
    }
   ],
   "cell_type": "code",
   "source": [
    "factory.addCircleArc(14,15,16, 3)"
   ],
   "metadata": {},
   "execution_count": 12
  },
  {
   "cell_type": "markdown",
   "source": [
    "Note that, in Gmsh, circle arcs should always be smaller than Pi. The\n",
    "OpenCASCADE geometry kernel does not have this limitation.\n",
    "\n",
    "We can then define additional lines and circles, as well as a new surface:"
   ],
   "metadata": {}
  },
  {
   "outputs": [
    {
     "output_type": "execute_result",
     "data": {
      "text/plain": "20"
     },
     "metadata": {},
     "execution_count": 13
    }
   ],
   "cell_type": "code",
   "source": [
    "factory.addLine(14,13, 4)\n",
    "factory.addLine(13,12, 5)\n",
    "factory.addLine(12,11, 6)\n",
    "factory.addLine(11,10, 7)\n",
    "factory.addCircleArc(8,9,10, 8)\n",
    "factory.addLine(8,7, 9)\n",
    "factory.addLine(7,6, 10)\n",
    "factory.addLine(6,5, 11)\n",
    "factory.addCircleArc(3,4,5, 12)\n",
    "factory.addLine(3,2, 13)\n",
    "factory.addLine(2,1, 14)\n",
    "factory.addLine(18,19, 15)\n",
    "factory.addCircleArc(21,20,24, 16)\n",
    "factory.addCircleArc(24,20,19, 17)\n",
    "factory.addCircleArc(18,23,25, 18)\n",
    "factory.addCircleArc(25,23,22, 19)\n",
    "factory.addLine(21,22, 20)"
   ],
   "metadata": {},
   "execution_count": 13
  },
  {
   "cell_type": "markdown",
   "source": [
    "But we still need to define the exterior surface. Since this surface has a\n",
    "hole, its definition now requires two curves loops:"
   ],
   "metadata": {}
  },
  {
   "outputs": [
    {
     "output_type": "execute_result",
     "data": {
      "text/plain": "23"
     },
     "metadata": {},
     "execution_count": 14
    }
   ],
   "cell_type": "code",
   "source": [
    "factory.addCurveLoop([17,-15,18,19,-20,16], 21)\n",
    "factory.addPlaneSurface([21], 22)\n",
    "factory.addCurveLoop([11,-12,13,14,1,2,-3,4,5,6,7,-8,9,10], 23)"
   ],
   "metadata": {},
   "execution_count": 14
  },
  {
   "outputs": [
    {
     "output_type": "execute_result",
     "data": {
      "text/plain": "24"
     },
     "metadata": {},
     "execution_count": 15
    }
   ],
   "cell_type": "code",
   "source": [
    "factory.addPlaneSurface([23,21], 24)"
   ],
   "metadata": {},
   "execution_count": 15
  },
  {
   "cell_type": "markdown",
   "source": [
    "As a general rule, if a surface has N holes, it is defined by N+1 curve loops:\n",
    "the first loop defines the exterior boundary; the other loops define the\n",
    "boundaries of the holes."
   ],
   "metadata": {}
  },
  {
   "outputs": [],
   "cell_type": "code",
   "source": [
    "factory.synchronize()"
   ],
   "metadata": {},
   "execution_count": 16
  },
  {
   "cell_type": "markdown",
   "source": [
    "Finally, we can add some comments by creating a post-processing view\n",
    "containing some strings:"
   ],
   "metadata": {}
  },
  {
   "outputs": [
    {
     "output_type": "execute_result",
     "data": {
      "text/plain": "0"
     },
     "metadata": {},
     "execution_count": 17
    }
   ],
   "cell_type": "code",
   "source": [
    "v = gmsh.view.add(\"comments\")"
   ],
   "metadata": {},
   "execution_count": 17
  },
  {
   "cell_type": "markdown",
   "source": [
    "Add a text string in window coordinates, 10 pixels from the left and 10 pixels\n",
    "from the bottom:"
   ],
   "metadata": {}
  },
  {
   "outputs": [],
   "cell_type": "code",
   "source": [
    "gmsh.view.addListDataString(v, [10, -10], [\"Created with Gmsh\"])"
   ],
   "metadata": {},
   "execution_count": 18
  },
  {
   "cell_type": "markdown",
   "source": [
    "Add a text string in model coordinates centered at (X,Y,Z) = (0, 0.11, 0),\n",
    "with some style attributes:"
   ],
   "metadata": {}
  },
  {
   "outputs": [],
   "cell_type": "code",
   "source": [
    "gmsh.view.addListDataString(v, [0, 0.11, 0], [\"Hole\"],\n",
    "                            [\"Align\", \"Center\", \"Font\", \"Helvetica\"])"
   ],
   "metadata": {},
   "execution_count": 19
  },
  {
   "cell_type": "markdown",
   "source": [
    "These annotations are handled by a list-based post-processing view. For\n",
    "large post-processing datasets, that contain actual field values defined on\n",
    "a mesh, you should use model-based post-processing views instead, which\n",
    "allow to efficiently store continuous or discontinuous scalar, vector and\n",
    "tensor fields, or arbitrary polynomial order.\n",
    "\n",
    "Views and geometrical entities can be made to respond to double-click\n",
    "events, here to print some messages to the console:"
   ],
   "metadata": {}
  },
  {
   "outputs": [],
   "cell_type": "code",
   "source": [
    "gmsh.option.setString(\"View[0].DoubleClickedCommand\",\n",
    "                      \"Printf('View[0] has been double-clicked!');\")\n",
    "gmsh.option.setString(\n",
    "    \"Geometry.DoubleClickedLineCommand\",\n",
    "    \"Printf('Curve %g has been double-clicked!', Geometry.DoubleClickedEntityTag);\")"
   ],
   "metadata": {},
   "execution_count": 20
  },
  {
   "cell_type": "markdown",
   "source": [
    "We can also change the color of some entities:"
   ],
   "metadata": {}
  },
  {
   "outputs": [],
   "cell_type": "code",
   "source": [
    "gmsh.model.setColor([(2, 22)], 127, 127, 127)\n",
    "gmsh.model.setColor([(2, 24)], 160, 32, 240)\n",
    "gmsh.model.setColor([(1, i) for i in 1:14], 255, 0, 0)\n",
    "gmsh.model.setColor([(1, i) for i in 15:20], 255, 255, 0)"
   ],
   "metadata": {},
   "execution_count": 21
  },
  {
   "outputs": [
    {
     "name": "stdout",
     "output_type": "stream",
     "text": [
      "Info    : Meshing 1D...\n",
      "Info    : [  0%] Meshing curve 1 (Line)\n",
      "Info    : [ 10%] Meshing curve 2 (Line)\n",
      "Info    : [ 10%] Meshing curve 3 (Circle)\n",
      "Info    : [ 20%] Meshing curve 4 (Line)\n",
      "Info    : [ 20%] Meshing curve 5 (Line)\n",
      "Info    : [ 30%] Meshing curve 6 (Line)\n",
      "Info    : [ 30%] Meshing curve 7 (Line)\n",
      "Info    : [ 40%] Meshing curve 8 (Circle)\n",
      "Info    : [ 40%] Meshing curve 9 (Line)\n",
      "Info    : [ 50%] Meshing curve 10 (Line)\n",
      "Info    : [ 50%] Meshing curve 11 (Line)\n",
      "Info    : [ 60%] Meshing curve 12 (Circle)\n",
      "Info    : [ 60%] Meshing curve 13 (Line)\n",
      "Info    : [ 70%] Meshing curve 14 (Line)\n",
      "Info    : [ 70%] Meshing curve 15 (Line)\n",
      "Info    : [ 80%] Meshing curve 16 (Circle)\n",
      "Info    : [ 80%] Meshing curve 17 (Circle)\n",
      "Info    : [ 90%] Meshing curve 18 (Circle)\n",
      "Info    : [ 90%] Meshing curve 19 (Circle)\n",
      "Info    : [100%] Meshing curve 20 (Line)\n",
      "Info    : Done meshing 1D (Wall 0.010845s, CPU 0.010845s)\n",
      "Info    : Meshing 2D...\n",
      "Info    : [  0%] Meshing surface 22 (Plane, Frontal-Delaunay)\n",
      "Info    : [ 50%] Meshing surface 24 (Plane, Frontal-Delaunay)\n",
      "Info    : Done meshing 2D (Wall 0.0275794s, CPU 0.027551s)\n",
      "Info    : 787 nodes 1633 elements\n"
     ]
    }
   ],
   "cell_type": "code",
   "source": [
    "gmsh.model.mesh.generate(2)"
   ],
   "metadata": {},
   "execution_count": 22
  },
  {
   "outputs": [
    {
     "name": "stdout",
     "output_type": "stream",
     "text": [
      "Info    : Writing 't4.msh'...\n",
      "Info    : Done writing 't4.msh'\n"
     ]
    }
   ],
   "cell_type": "code",
   "source": [
    "gmsh.write(\"t4.msh\")"
   ],
   "metadata": {},
   "execution_count": 23
  },
  {
   "outputs": [],
   "cell_type": "code",
   "source": [
    "gmsh.finalize()"
   ],
   "metadata": {},
   "execution_count": 24
  },
  {
   "cell_type": "markdown",
   "source": [
    "---\n",
    "\n",
    "*This notebook was generated using [Literate.jl](https://github.com/fredrikekre/Literate.jl).*"
   ],
   "metadata": {}
  }
 ],
 "nbformat_minor": 3,
 "metadata": {
  "language_info": {
   "file_extension": ".jl",
   "mimetype": "application/julia",
   "name": "julia",
   "version": "1.5.3"
  },
  "kernelspec": {
   "name": "julia-1.5",
   "display_name": "Julia 1.5.3",
   "language": "julia"
  }
 },
 "nbformat": 4
}
