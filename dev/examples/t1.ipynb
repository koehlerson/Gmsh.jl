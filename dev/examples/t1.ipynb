{
 "cells": [
  {
   "cell_type": "markdown",
   "source": [
    "# Tutorial 1\n",
    "\n",
    "## Geometry basics, elementary entities, physical groups\n",
    "\n",
    "\n",
    "The Julia API is entirely defined in the `gmsh.jl` module (which contains the\n",
    "full documentation of all the functions in the API):"
   ],
   "metadata": {}
  },
  {
   "outputs": [],
   "cell_type": "code",
   "source": [
    "import gmsh"
   ],
   "metadata": {},
   "execution_count": 1
  },
  {
   "cell_type": "markdown",
   "source": [
    "Before using any functions in the Python API, Gmsh must be initialized:"
   ],
   "metadata": {}
  },
  {
   "outputs": [],
   "cell_type": "code",
   "source": [
    "gmsh.initialize()"
   ],
   "metadata": {},
   "execution_count": 2
  },
  {
   "cell_type": "markdown",
   "source": [
    "Next we add a new model named \"t1\" (if `gmsh.model.add()` is not called a new\n",
    "unnamed model will be created on the fly, if necessary):"
   ],
   "metadata": {}
  },
  {
   "outputs": [],
   "cell_type": "code",
   "source": [
    "gmsh.model.add(\"t1\")"
   ],
   "metadata": {},
   "execution_count": 3
  },
  {
   "cell_type": "markdown",
   "source": [
    "The Julia API provides direct access to each supported geometry (CAD)\n",
    "kernel. The built-in kernel is used in this first tutorial: the corresponding\n",
    "API functions have the `gmsh.model.geo` prefix.\n",
    "\n",
    "The first type of `elementary entity` in Gmsh is a `Point`. To create a point\n",
    "with the built-in CAD kernel, the Julia API function is\n",
    "gmsh.model.geo.addPoint():\n",
    "- the first 3 arguments are the point coordinates (x, y, z)\n",
    "- the next (optional) argument is the target mesh size close to the point\n",
    "- the last (optional) argument is the point tag (a stricly positive integer\n",
    "  that uniquely identifies the point)"
   ],
   "metadata": {}
  },
  {
   "outputs": [
    {
     "output_type": "execute_result",
     "data": {
      "text/plain": "1"
     },
     "metadata": {},
     "execution_count": 4
    }
   ],
   "cell_type": "code",
   "source": [
    "lc = 1e-2\n",
    "gmsh.model.geo.addPoint(0, 0, 0, lc, 1)"
   ],
   "metadata": {},
   "execution_count": 4
  },
  {
   "cell_type": "markdown",
   "source": [
    "The distribution of the mesh element sizes will be obtained by interpolation\n",
    "of these mesh sizes throughout the geometry. Another method to specify mesh\n",
    "sizes is to use general mesh size Fields (see `t10.jl`). A particular case is\n",
    "the use of a background mesh (see `t7.jl`).\n",
    "\n",
    "If no target mesh size of provided, a default uniform coarse size will be used\n",
    "for the model, based on the overall model size.\n",
    "\n",
    "We can then define some additional points. All points should have different\n",
    "tags:"
   ],
   "metadata": {}
  },
  {
   "outputs": [
    {
     "output_type": "execute_result",
     "data": {
      "text/plain": "3"
     },
     "metadata": {},
     "execution_count": 5
    }
   ],
   "cell_type": "code",
   "source": [
    "gmsh.model.geo.addPoint(.1, 0,  0, lc, 2)\n",
    "gmsh.model.geo.addPoint(.1, .3, 0, lc, 3)"
   ],
   "metadata": {},
   "execution_count": 5
  },
  {
   "cell_type": "markdown",
   "source": [
    "If the tag is not provided explicitly, a new tag is automatically created, and\n",
    "returned by the function:"
   ],
   "metadata": {}
  },
  {
   "outputs": [
    {
     "output_type": "execute_result",
     "data": {
      "text/plain": "4"
     },
     "metadata": {},
     "execution_count": 6
    }
   ],
   "cell_type": "code",
   "source": [
    "p4 = gmsh.model.geo.addPoint(0, .3, 0, lc)"
   ],
   "metadata": {},
   "execution_count": 6
  },
  {
   "cell_type": "markdown",
   "source": [
    "Curves are Gmsh's second type of elementery entities, and, amongst curves,\n",
    "straight lines are the simplest. The API to create straight line segments with\n",
    "the built-in kernel follows the same conventions: the first 2 arguments are\n",
    "point tags (the start and end points of the line), and the last (optional one)\n",
    "is the line tag.\n",
    "\n",
    "In the commands below, for example, the line 1 starts at point 1 and ends at\n",
    "point 2.\n",
    "\n",
    "Note that curve tags are separate from point tags - hence we can reuse tag `1`\n",
    "for our first curve. And as a general rule, elementary entity tags in Gmsh\n",
    "have to be unique per geometrical dimension."
   ],
   "metadata": {}
  },
  {
   "outputs": [
    {
     "output_type": "execute_result",
     "data": {
      "text/plain": "4"
     },
     "metadata": {},
     "execution_count": 7
    }
   ],
   "cell_type": "code",
   "source": [
    "gmsh.model.geo.addLine(1, 2, 1)\n",
    "gmsh.model.geo.addLine(3, 2, 2)\n",
    "gmsh.model.geo.addLine(3, p4, 3)\n",
    "gmsh.model.geo.addLine(4, 1, p4)"
   ],
   "metadata": {},
   "execution_count": 7
  },
  {
   "cell_type": "markdown",
   "source": [
    "The third elementary entity is the surface. In order to define a simple\n",
    "rectangular surface from the four curves defined above, a curve loop has first\n",
    "to be defined. A curve loop is defined by an ordered list of connected curves,\n",
    "a sign being associated with each curve (depending on the orientation of the\n",
    "curve to form a loop). The API function to create curve loops takes a list\n",
    "of integers as first argument, and the curve loop tag (which must be unique\n",
    "amongst curve loops) as the second (optional) argument:"
   ],
   "metadata": {}
  },
  {
   "outputs": [
    {
     "output_type": "execute_result",
     "data": {
      "text/plain": "1"
     },
     "metadata": {},
     "execution_count": 8
    }
   ],
   "cell_type": "code",
   "source": [
    "gmsh.model.geo.addCurveLoop([4, 1, -2, 3], 1)"
   ],
   "metadata": {},
   "execution_count": 8
  },
  {
   "cell_type": "markdown",
   "source": [
    "We can then define the surface as a list of curve loops (only one here,\n",
    "representing the external contour, since there are no holes--see `t4.jl` for\n",
    "an example of a surface with a hole):"
   ],
   "metadata": {}
  },
  {
   "outputs": [
    {
     "output_type": "execute_result",
     "data": {
      "text/plain": "1"
     },
     "metadata": {},
     "execution_count": 9
    }
   ],
   "cell_type": "code",
   "source": [
    "gmsh.model.geo.addPlaneSurface([1], 1)"
   ],
   "metadata": {},
   "execution_count": 9
  },
  {
   "cell_type": "markdown",
   "source": [
    "Before they can be meshed (and, more generally, before they can be used by API\n",
    "functions outside of the built-in CAD kernel functions), the CAD entities must\n",
    "be synchronized with the Gmsh model, which will create the relevant Gmsh data\n",
    "structures. This is achieved by the gmsh.model.geo.synchronize() API call for\n",
    "the built-in CAD kernel. Synchronizations can be called at any time, but they\n",
    "involve a non trivial amount of processing; so while you could synchronize the\n",
    "internal CAD data after every CAD command, it is usually better to minimize\n",
    "the number of synchronization points."
   ],
   "metadata": {}
  },
  {
   "outputs": [],
   "cell_type": "code",
   "source": [
    "gmsh.model.geo.synchronize()"
   ],
   "metadata": {},
   "execution_count": 10
  },
  {
   "cell_type": "markdown",
   "source": [
    "At this level, Gmsh knows everything to display the rectangular surface 1 and\n",
    "to mesh it. An optional step is needed if we want to group elementary\n",
    "geometrical entities into more meaningful groups, e.g. to define some\n",
    "mathematical (\"domain\", \"boundary\"), functional (\"left wing\", \"fuselage\") or\n",
    "material (\"steel\", \"carbon\") properties.\n",
    "\n",
    "Such groups are called \"Physical Groups\" in Gmsh. By default, if physical\n",
    "groups are defined, Gmsh will export in output files only mesh elements that\n",
    "belong to at least one physical group. (To force Gmsh to save all elements,\n",
    "whether they belong to physical groups or not, set the `Mesh.SaveAll' option\n",
    "to 1.) Physical groups are also identified by tags, i.e. stricly positive\n",
    "integers, that should be unique per dimension (0D, 1D, 2D or 3D). Physical\n",
    "groups can also be given names.\n",
    "\n",
    "Here we define a physical curve that groups the left, bottom and right curves\n",
    "in a single group (with prescribed tag 5); and a physical surface with name\n",
    "\"My surface\" (with an automatic tag) containing the geometrical surface 1:"
   ],
   "metadata": {}
  },
  {
   "outputs": [
    {
     "output_type": "execute_result",
     "data": {
      "text/plain": "6"
     },
     "metadata": {},
     "execution_count": 11
    }
   ],
   "cell_type": "code",
   "source": [
    "gmsh.model.addPhysicalGroup(0, [1, 2], 1)\n",
    "gmsh.model.addPhysicalGroup(1, [1, 2], 2)\n",
    "gmsh.model.addPhysicalGroup(2, [1], 6)"
   ],
   "metadata": {},
   "execution_count": 11
  },
  {
   "outputs": [],
   "cell_type": "code",
   "source": [
    "gmsh.model.setPhysicalName(2, 6, \"My surface\")"
   ],
   "metadata": {},
   "execution_count": 12
  },
  {
   "cell_type": "markdown",
   "source": [
    "We can then generate a 2D mesh"
   ],
   "metadata": {}
  },
  {
   "outputs": [
    {
     "name": "stdout",
     "output_type": "stream",
     "text": [
      "Info    : Meshing 1D...\n",
      "Info    : [  0%] Meshing curve 1 (Line)\n",
      "Info    : [ 30%] Meshing curve 2 (Line)\n",
      "Info    : [ 50%] Meshing curve 3 (Line)\n",
      "Info    : [ 80%] Meshing curve 4 (Line)\n",
      "Info    : Done meshing 1D (Wall 0.0004457s, CPU 0.000428s)\n",
      "Info    : Meshing 2D...\n",
      "Info    : Meshing surface 1 (Plane, Frontal-Delaunay)\n",
      "Info    : Done meshing 2D (Wall 0.0130285s, CPU 0.01298s)\n",
      "Info    : 403 nodes 808 elements\n"
     ]
    }
   ],
   "cell_type": "code",
   "source": [
    "gmsh.model.mesh.generate(2)"
   ],
   "metadata": {},
   "execution_count": 13
  },
  {
   "cell_type": "markdown",
   "source": [
    "... and save it to disk"
   ],
   "metadata": {}
  },
  {
   "outputs": [
    {
     "name": "stdout",
     "output_type": "stream",
     "text": [
      "Info    : Writing 't1.msh'...\n",
      "Info    : Done writing 't1.msh'\n"
     ]
    }
   ],
   "cell_type": "code",
   "source": [
    "gmsh.write(\"t1.msh\")"
   ],
   "metadata": {},
   "execution_count": 14
  },
  {
   "cell_type": "markdown",
   "source": [
    "Remember that by default, if physical groups are defined, Gmsh will export in\n",
    "the output mesh file only those elements that belong to at least one physical\n",
    "group. To force Gmsh to save all elements, you can use\n",
    "\n",
    "`gmsh.option.setNumber(\"Mesh.SaveAll\", 1)`\n",
    "\n",
    "By default, Gmsh saves meshes in the latest version of the Gmsh mesh file\n",
    "format (the `MSH` format). You can save meshes in other mesh formats by\n",
    "specifying a filename with a different extension. For example\n",
    "\n",
    "`gmsh.write(\"t1.unv\")`\n",
    "\n",
    "will save the mesh in the UNV format. You can also save the mesh in older\n",
    "versions of the MSH format: simply set\n",
    "\n",
    "`gmsh.option.setNumber(\"Mesh.MshFileVersion\", x)`\n",
    "\n",
    "for any version number `x`. As an alternative, you can also not specify the\n",
    "format explicitly, and just choose a filename with the `.msh2` or `.msh4`\n",
    "extension.\n",
    "\n",
    "Note that starting with Gmsh 3.0, models can be built using other geometry\n",
    "kernels than the default \"built-in\" kernel. To use the OpenCASCADE CAD kernel\n",
    "instead of the built-in kernel, you should use the functions with the\n",
    "`gmsh.model.occ` prefix.\n",
    "\n",
    "Different CAD kernels have different features. With OpenCASCADE, instead of\n",
    "defining the surface by successively defining 4 points, 4 curves and 1 curve\n",
    "loop, one can define the rectangular surface directly with\n",
    "\n",
    "`gmsh.model.occ.addRectangle(.2, 0, 0, .1, .3)`\n",
    "\n",
    "After synchronization with the Gmsh model with\n",
    "\n",
    "`gmsh.model.occ.synchronize()`\n",
    "\n",
    "the underlying curves and points could be accessed with\n",
    "`gmsh.model.getBoundary()`.\n",
    "\n",
    "This should be called when you are done using the Gmsh Julia API:"
   ],
   "metadata": {}
  },
  {
   "outputs": [],
   "cell_type": "code",
   "source": [
    "gmsh.finalize()"
   ],
   "metadata": {},
   "execution_count": 15
  },
  {
   "cell_type": "markdown",
   "source": [
    "---\n",
    "\n",
    "*This notebook was generated using [Literate.jl](https://github.com/fredrikekre/Literate.jl).*"
   ],
   "metadata": {}
  }
 ],
 "nbformat_minor": 3,
 "metadata": {
  "language_info": {
   "file_extension": ".jl",
   "mimetype": "application/julia",
   "name": "julia",
   "version": "1.5.3"
  },
  "kernelspec": {
   "name": "julia-1.5",
   "display_name": "Julia 1.5.3",
   "language": "julia"
  }
 },
 "nbformat": 4
}
