{
 "cells": [
  {
   "cell_type": "markdown",
   "source": [
    "# Tutorial 10\n",
    "\n",
    "## Mesh size fields\n",
    "\n",
    "In addition to specifying target mesh sizes at the points of the geometry (see\n",
    "Tutorial 1) you can use general mesh\n",
    "size \"Fields\"."
   ],
   "metadata": {}
  },
  {
   "outputs": [],
   "cell_type": "code",
   "source": [
    "import gmsh"
   ],
   "metadata": {},
   "execution_count": 1
  },
  {
   "outputs": [],
   "cell_type": "code",
   "source": [
    "gmsh.initialize(append!([\"gmsh\"], ARGS))"
   ],
   "metadata": {},
   "execution_count": 2
  },
  {
   "outputs": [],
   "cell_type": "code",
   "source": [
    "gmsh.model.add(\"t10\")"
   ],
   "metadata": {},
   "execution_count": 3
  },
  {
   "cell_type": "markdown",
   "source": [
    "Let's create a simple rectangular geometry:"
   ],
   "metadata": {}
  },
  {
   "outputs": [
    {
     "output_type": "execute_result",
     "data": {
      "text/plain": "5"
     },
     "metadata": {},
     "execution_count": 4
    }
   ],
   "cell_type": "code",
   "source": [
    "lc = .15\n",
    "gmsh.model.geo.addPoint(0.0, 0.0, 0, lc, 1)\n",
    "gmsh.model.geo.addPoint(1, 0.0, 0, lc, 2)\n",
    "gmsh.model.geo.addPoint(1, 1, 0, lc, 3)\n",
    "gmsh.model.geo.addPoint(0, 1, 0, lc, 4)\n",
    "gmsh.model.geo.addPoint(0.2, .5, 0, lc, 5)"
   ],
   "metadata": {},
   "execution_count": 4
  },
  {
   "outputs": [
    {
     "output_type": "execute_result",
     "data": {
      "text/plain": "4"
     },
     "metadata": {},
     "execution_count": 5
    }
   ],
   "cell_type": "code",
   "source": [
    "gmsh.model.geo.addLine(1, 2, 1)\n",
    "gmsh.model.geo.addLine(2, 3, 2)\n",
    "gmsh.model.geo.addLine(3, 4, 3)\n",
    "gmsh.model.geo.addLine(4, 1, 4)"
   ],
   "metadata": {},
   "execution_count": 5
  },
  {
   "outputs": [
    {
     "output_type": "execute_result",
     "data": {
      "text/plain": "6"
     },
     "metadata": {},
     "execution_count": 6
    }
   ],
   "cell_type": "code",
   "source": [
    "gmsh.model.geo.addCurveLoop([1, 2, 3, 4], 5)\n",
    "gmsh.model.geo.addPlaneSurface([5], 6)"
   ],
   "metadata": {},
   "execution_count": 6
  },
  {
   "outputs": [],
   "cell_type": "code",
   "source": [
    "gmsh.model.geo.synchronize()"
   ],
   "metadata": {},
   "execution_count": 7
  },
  {
   "cell_type": "markdown",
   "source": [
    "Say we would like to obtain mesh elements with size lc/30 near curve 2 and\n",
    "point 5, and size lc elsewhere. To achieve this, we can use two fields:\n",
    "\"Distance\", and \"Threshold\". We first define a Distance field (`Field[1]`) on\n",
    "points 5 and on curve 2. This field returns the distance to point 5 and to\n",
    "(100 equidistant points on) curve 2."
   ],
   "metadata": {}
  },
  {
   "outputs": [],
   "cell_type": "code",
   "source": [
    "gmsh.model.mesh.field.add(\"Distance\", 1)\n",
    "gmsh.model.mesh.field.setNumbers(1, \"NodesList\", [5])\n",
    "gmsh.model.mesh.field.setNumber(1, \"NNodesByEdge\", 100)\n",
    "gmsh.model.mesh.field.setNumbers(1, \"EdgesList\", [2])"
   ],
   "metadata": {},
   "execution_count": 8
  },
  {
   "cell_type": "markdown",
   "source": [
    "We then define a `Threshold` field, which uses the return value of the\n",
    "`Distance' field 1 in order to define a simple change in element size\n",
    "depending on the computed distances"
   ],
   "metadata": {}
  },
  {
   "outputs": [],
   "cell_type": "code",
   "source": [
    "gmsh.model.mesh.field.add(\"Threshold\", 2)\n",
    "gmsh.model.mesh.field.setNumber(2, \"IField\", 1)\n",
    "gmsh.model.mesh.field.setNumber(2, \"LcMin\", lc / 30)\n",
    "gmsh.model.mesh.field.setNumber(2, \"LcMax\", lc)\n",
    "gmsh.model.mesh.field.setNumber(2, \"DistMin\", 0.15)\n",
    "gmsh.model.mesh.field.setNumber(2, \"DistMax\", 0.5)"
   ],
   "metadata": {},
   "execution_count": 9
  },
  {
   "cell_type": "markdown",
   "source": [
    "Say we want to modulate the mesh element sizes using a mathematical function\n",
    "of the spatial coordinates. We can do this with the MathEval field:"
   ],
   "metadata": {}
  },
  {
   "outputs": [],
   "cell_type": "code",
   "source": [
    "gmsh.model.mesh.field.add(\"MathEval\", 3)\n",
    "gmsh.model.mesh.field.setString(3, \"F\",\n",
    "                                \"Cos(4*3.14*x) * Sin(4*3.14*y) / 10 + 0.101\")"
   ],
   "metadata": {},
   "execution_count": 10
  },
  {
   "cell_type": "markdown",
   "source": [
    "We could also combine MathEval with values coming from other fields. For\n",
    "example, let's define a `Distance` field around point 1"
   ],
   "metadata": {}
  },
  {
   "outputs": [],
   "cell_type": "code",
   "source": [
    "gmsh.model.mesh.field.add(\"Distance\", 4)\n",
    "gmsh.model.mesh.field.setNumbers(4, \"NodesList\", [1])"
   ],
   "metadata": {},
   "execution_count": 11
  },
  {
   "cell_type": "markdown",
   "source": [
    "We can then create a `MathEval` field with a function that depends on the\n",
    "return value of the `Distance` field 4, i.e., depending on the distance to\n",
    "point 1 (here using a cubic law, with minimum element size = lc / 100)"
   ],
   "metadata": {}
  },
  {
   "outputs": [],
   "cell_type": "code",
   "source": [
    "gmsh.model.mesh.field.add(\"MathEval\", 5)\n",
    "gmsh.model.mesh.field.setString(5, \"F\", \"F4^3 + \" * string(lc / 100))"
   ],
   "metadata": {},
   "execution_count": 12
  },
  {
   "cell_type": "markdown",
   "source": [
    "We could also use a `Box` field to impose a step change in element sizes\n",
    "inside a box"
   ],
   "metadata": {}
  },
  {
   "outputs": [],
   "cell_type": "code",
   "source": [
    "gmsh.model.mesh.field.add(\"Box\", 6)\n",
    "gmsh.model.mesh.field.setNumber(6, \"VIn\", lc / 15)\n",
    "gmsh.model.mesh.field.setNumber(6, \"VOut\", lc)\n",
    "gmsh.model.mesh.field.setNumber(6, \"XMin\", 0.3)\n",
    "gmsh.model.mesh.field.setNumber(6, \"XMax\", 0.6)\n",
    "gmsh.model.mesh.field.setNumber(6, \"YMin\", 0.3)\n",
    "gmsh.model.mesh.field.setNumber(6, \"YMax\", 0.6)"
   ],
   "metadata": {},
   "execution_count": 13
  },
  {
   "cell_type": "markdown",
   "source": [
    "Many other types of fields are available: see the reference manual for a\n",
    "complete list. You can also create fields directly in the graphical user\n",
    "interface by selecting `Define->Size fields` in the `Mesh` module.\n",
    "\n",
    "Finally, let's use the minimum of all the fields as the background mesh field:"
   ],
   "metadata": {}
  },
  {
   "outputs": [],
   "cell_type": "code",
   "source": [
    "gmsh.model.mesh.field.add(\"Min\", 7)\n",
    "gmsh.model.mesh.field.setNumbers(7, \"FieldsList\", [2, 3, 5, 6])"
   ],
   "metadata": {},
   "execution_count": 14
  },
  {
   "outputs": [],
   "cell_type": "code",
   "source": [
    "gmsh.model.mesh.field.setAsBackgroundMesh(7)"
   ],
   "metadata": {},
   "execution_count": 15
  },
  {
   "cell_type": "markdown",
   "source": [
    "The API also allows to set a global mesh size callback, which is called each\n",
    "time the mesh size is queried"
   ],
   "metadata": {}
  },
  {
   "outputs": [],
   "cell_type": "code",
   "source": [
    "function meshSizeCallback(dim, tag, x, y, z)\n",
    "    return 0.02 * x + 0.01\n",
    "end\n",
    "gmsh.model.mesh.setSizeCallback(meshSizeCallback)"
   ],
   "metadata": {},
   "execution_count": 16
  },
  {
   "cell_type": "markdown",
   "source": [
    "To determine the size of mesh elements, Gmsh locally computes the minimum of\n",
    "\n",
    "1) the size of the model bounding box;\n",
    "2) if `Mesh.MeshSizeFromPoints` is set, the mesh size specified at geometrical\n",
    "   points;\n",
    "3) if `Mesh.MeshSizeFromCurvature` is set, the mesh size based on the\n",
    "   curvature and `Mesh.MinimumElementsPerTwoPi`;\n",
    "4) the background mesh field;\n",
    "5) any per-entity mesh size constraint;\n",
    "6) the mesh size returned by the mesh size callback, if any.\n",
    "\n",
    "This value is then constrained in the interval [`Mesh.MeshSizeMin`,\n",
    "`Mesh.MeshSizeMax`] and multiplied by `Mesh.MeshSizeFactor`.  In addition,\n",
    "boundary mesh sizes (on curves or surfaces) are interpolated inside the\n",
    "enclosed entity (surface or volume, respectively) if the option\n",
    "`Mesh.MeshSizeExtendFromBoundary` is set (which is the case by default).\n",
    "\n",
    "When the element size is fully specified by a background mesh (as it is in\n",
    "this example), it is thus often desirable to set"
   ],
   "metadata": {}
  },
  {
   "outputs": [],
   "cell_type": "code",
   "source": [
    "gmsh.option.setNumber(\"Mesh.MeshSizeExtendFromBoundary\", 0)\n",
    "gmsh.option.setNumber(\"Mesh.MeshSizeFromPoints\", 0)\n",
    "gmsh.option.setNumber(\"Mesh.MeshSizeFromCurvature\", 0)"
   ],
   "metadata": {},
   "execution_count": 17
  },
  {
   "cell_type": "markdown",
   "source": [
    "This will prevent over-refinement due to small mesh sizes on the boundary."
   ],
   "metadata": {}
  },
  {
   "outputs": [
    {
     "name": "stdout",
     "output_type": "stream",
     "text": [
      "Info    : Meshing 1D...\n",
      "Info    : [  0%] Meshing curve 1 (Line)\n",
      "Info    : [ 30%] Meshing curve 2 (Line)\n",
      "Info    : [ 50%] Meshing curve 3 (Line)\n",
      "Info    : [ 80%] Meshing curve 4 (Line)\n",
      "Info    : Done meshing 1D (Wall 0.0759177s, CPU 0.067937s)\n",
      "Info    : Meshing 2D...\n",
      "Info    : Meshing surface 6 (Plane, Frontal-Delaunay)\n",
      "Info    : Done meshing 2D (Wall 1.01256s, CPU 0.992436s)\n",
      "Info    : 22761 nodes 45523 elements\n",
      "Info    : Writing 't10.msh'...\n",
      "Info    : Done writing 't10.msh'\n"
     ]
    }
   ],
   "cell_type": "code",
   "source": [
    "gmsh.model.mesh.generate(2)\n",
    "gmsh.write(\"t10.msh\")"
   ],
   "metadata": {},
   "execution_count": 18
  },
  {
   "outputs": [],
   "cell_type": "code",
   "source": [
    "gmsh.finalize()"
   ],
   "metadata": {},
   "execution_count": 19
  },
  {
   "cell_type": "markdown",
   "source": [
    "---\n",
    "\n",
    "*This notebook was generated using [Literate.jl](https://github.com/fredrikekre/Literate.jl).*"
   ],
   "metadata": {}
  }
 ],
 "nbformat_minor": 3,
 "metadata": {
  "language_info": {
   "file_extension": ".jl",
   "mimetype": "application/julia",
   "name": "julia",
   "version": "1.5.3"
  },
  "kernelspec": {
   "name": "julia-1.5",
   "display_name": "Julia 1.5.3",
   "language": "julia"
  }
 },
 "nbformat": 4
}
