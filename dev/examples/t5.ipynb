{
 "cells": [
  {
   "cell_type": "markdown",
   "source": [
    "# Tutorial 5\n",
    "\n",
    "## Mesh sizes, holes in volumes"
   ],
   "metadata": {}
  },
  {
   "outputs": [],
   "cell_type": "code",
   "source": [
    "import gmsh"
   ],
   "metadata": {},
   "execution_count": 1
  },
  {
   "outputs": [],
   "cell_type": "code",
   "source": [
    "gmsh.initialize()"
   ],
   "metadata": {},
   "execution_count": 2
  },
  {
   "outputs": [],
   "cell_type": "code",
   "source": [
    "gmsh.model.add(\"t5\")"
   ],
   "metadata": {},
   "execution_count": 3
  },
  {
   "outputs": [
    {
     "output_type": "execute_result",
     "data": {
      "text/plain": "0.055"
     },
     "metadata": {},
     "execution_count": 4
    }
   ],
   "cell_type": "code",
   "source": [
    "lcar1 = .1\n",
    "lcar2 = .0005\n",
    "lcar3 = .055"
   ],
   "metadata": {},
   "execution_count": 4
  },
  {
   "cell_type": "markdown",
   "source": [
    "If we wanted to change these mesh sizes globally (without changing the above\n",
    "definitions), we could give a global scaling factor for all mesh sizes with\n",
    "e.g.\n",
    "\n",
    "`gmsh.option.setNumber(\"Mesh.MeshSizeFactor\", 0.1);`\n",
    "See Tutorial 10 for more information about mesh sizes.\n",
    "\n",
    "We proceed by defining some elementary entities describing a truncated cube:"
   ],
   "metadata": {}
  },
  {
   "outputs": [
    {
     "output_type": "execute_result",
     "data": {
      "text/plain": "14"
     },
     "metadata": {},
     "execution_count": 5
    }
   ],
   "cell_type": "code",
   "source": [
    "gmsh.model.geo.addPoint(0.5,0.5,0.5, lcar2, 1)\n",
    "gmsh.model.geo.addPoint(0.5,0.5,0, lcar1, 2)\n",
    "gmsh.model.geo.addPoint(0,0.5,0.5, lcar1, 3)\n",
    "gmsh.model.geo.addPoint(0,0,0.5, lcar1, 4)\n",
    "gmsh.model.geo.addPoint(0.5,0,0.5, lcar1, 5)\n",
    "gmsh.model.geo.addPoint(0.5,0,0, lcar1, 6)\n",
    "gmsh.model.geo.addPoint(0,0.5,0, lcar1, 7)\n",
    "gmsh.model.geo.addPoint(0,1,0, lcar1, 8)\n",
    "gmsh.model.geo.addPoint(1,1,0, lcar1, 9)\n",
    "gmsh.model.geo.addPoint(0,0,1, lcar1, 10)\n",
    "gmsh.model.geo.addPoint(0,1,1, lcar1, 11)\n",
    "gmsh.model.geo.addPoint(1,1,1, lcar1, 12)\n",
    "gmsh.model.geo.addPoint(1,0,1, lcar1, 13)\n",
    "gmsh.model.geo.addPoint(1,0,0, lcar1, 14)"
   ],
   "metadata": {},
   "execution_count": 5
  },
  {
   "outputs": [],
   "cell_type": "code",
   "source": [
    "gmsh.model.geo.addLine(8,9, 1);   gmsh.model.geo.addLine(9,12, 2)\n",
    "gmsh.model.geo.addLine(12,11, 3); gmsh.model.geo.addLine(11,8, 4)\n",
    "gmsh.model.geo.addLine(9,14, 5);  gmsh.model.geo.addLine(14,13, 6)\n",
    "gmsh.model.geo.addLine(13,12, 7); gmsh.model.geo.addLine(11,10, 8)\n",
    "gmsh.model.geo.addLine(10,13, 9); gmsh.model.geo.addLine(10,4, 10)\n",
    "gmsh.model.geo.addLine(4,5, 11);  gmsh.model.geo.addLine(5,6, 12)\n",
    "gmsh.model.geo.addLine(6,2, 13);  gmsh.model.geo.addLine(2,1, 14)\n",
    "gmsh.model.geo.addLine(1,3, 15);  gmsh.model.geo.addLine(3,7, 16)\n",
    "gmsh.model.geo.addLine(7,2, 17);  gmsh.model.geo.addLine(3,4, 18)\n",
    "gmsh.model.geo.addLine(5,1, 19);  gmsh.model.geo.addLine(7,8, 20)\n",
    "gmsh.model.geo.addLine(6,14, 21);"
   ],
   "metadata": {},
   "execution_count": 6
  },
  {
   "outputs": [
    {
     "output_type": "execute_result",
     "data": {
      "text/plain": "39"
     },
     "metadata": {},
     "execution_count": 7
    }
   ],
   "cell_type": "code",
   "source": [
    "gmsh.model.geo.addCurveLoop([-11,-19,-15,-18], 22)\n",
    "gmsh.model.geo.addPlaneSurface([22], 23)\n",
    "gmsh.model.geo.addCurveLoop([16,17,14,15], 24)\n",
    "gmsh.model.geo.addPlaneSurface([24], 25)\n",
    "gmsh.model.geo.addCurveLoop([-17,20,1,5,-21,13], 26)\n",
    "gmsh.model.geo.addPlaneSurface([26], 27)\n",
    "gmsh.model.geo.addCurveLoop([-4,-1,-2,-3], 28)\n",
    "gmsh.model.geo.addPlaneSurface([28], 29)\n",
    "gmsh.model.geo.addCurveLoop([-7,2,-5,-6], 30)\n",
    "gmsh.model.geo.addPlaneSurface([30], 31)\n",
    "gmsh.model.geo.addCurveLoop([6,-9,10,11,12,21], 32)\n",
    "gmsh.model.geo.addPlaneSurface([32], 33)\n",
    "gmsh.model.geo.addCurveLoop([7,3,8,9], 34)\n",
    "gmsh.model.geo.addPlaneSurface([34], 35)\n",
    "gmsh.model.geo.addCurveLoop([-10,18,-16,-20,4,-8], 36)\n",
    "gmsh.model.geo.addPlaneSurface([36], 37)\n",
    "gmsh.model.geo.addCurveLoop([-14,-13,-12,19], 38)\n",
    "gmsh.model.geo.addPlaneSurface([38], 39)"
   ],
   "metadata": {},
   "execution_count": 7
  },
  {
   "outputs": [
    {
     "output_type": "execute_result",
     "data": {
      "text/plain": "Any[]"
     },
     "metadata": {},
     "execution_count": 8
    }
   ],
   "cell_type": "code",
   "source": [
    "shells = []"
   ],
   "metadata": {},
   "execution_count": 8
  },
  {
   "outputs": [
    {
     "output_type": "execute_result",
     "data": {
      "text/plain": "1-element Array{Any,1}:\n 1"
     },
     "metadata": {},
     "execution_count": 9
    }
   ],
   "cell_type": "code",
   "source": [
    "sl = gmsh.model.geo.addSurfaceLoop([35,31,29,37,33,23,39,25,27])\n",
    "push!(shells, sl)"
   ],
   "metadata": {},
   "execution_count": 9
  },
  {
   "cell_type": "markdown",
   "source": [
    "This function will create a spherical hole in a volume. We don't specify\n",
    "tags manually, and let the functions return them automatically:"
   ],
   "metadata": {}
  },
  {
   "outputs": [
    {
     "output_type": "execute_result",
     "data": {
      "text/plain": "cheeseHole (generic function with 1 method)"
     },
     "metadata": {},
     "execution_count": 10
    }
   ],
   "cell_type": "code",
   "source": [
    "function cheeseHole(x, y, z, r, lc, shells)\n",
    "    p1 = gmsh.model.geo.addPoint(x,  y,  z,   lc)\n",
    "    p2 = gmsh.model.geo.addPoint(x+r,y,  z,   lc)\n",
    "    p3 = gmsh.model.geo.addPoint(x,  y+r,z,   lc)\n",
    "    p4 = gmsh.model.geo.addPoint(x,  y,  z+r, lc)\n",
    "    p5 = gmsh.model.geo.addPoint(x-r,y,  z,   lc)\n",
    "    p6 = gmsh.model.geo.addPoint(x,  y-r,z,   lc)\n",
    "    p7 = gmsh.model.geo.addPoint(x,  y,  z-r, lc)\n",
    "\n",
    "    c1 = gmsh.model.geo.addCircleArc(p2,p1,p7)\n",
    "    c2 = gmsh.model.geo.addCircleArc(p7,p1,p5)\n",
    "    c3 = gmsh.model.geo.addCircleArc(p5,p1,p4)\n",
    "    c4 = gmsh.model.geo.addCircleArc(p4,p1,p2)\n",
    "    c5 = gmsh.model.geo.addCircleArc(p2,p1,p3)\n",
    "    c6 = gmsh.model.geo.addCircleArc(p3,p1,p5)\n",
    "    c7 = gmsh.model.geo.addCircleArc(p5,p1,p6)\n",
    "    c8 = gmsh.model.geo.addCircleArc(p6,p1,p2)\n",
    "    c9 = gmsh.model.geo.addCircleArc(p7,p1,p3)\n",
    "    c10 = gmsh.model.geo.addCircleArc(p3,p1,p4)\n",
    "    c11 = gmsh.model.geo.addCircleArc(p4,p1,p6)\n",
    "    c12 = gmsh.model.geo.addCircleArc(p6,p1,p7)\n",
    "\n",
    "    l1 = gmsh.model.geo.addCurveLoop([c5,c10,c4])\n",
    "    l2 = gmsh.model.geo.addCurveLoop([c9,-c5,c1])\n",
    "    l3 = gmsh.model.geo.addCurveLoop([c12,-c8,-c1])\n",
    "    l4 = gmsh.model.geo.addCurveLoop([c8,-c4,c11])\n",
    "    l5 = gmsh.model.geo.addCurveLoop([-c10,c6,c3])\n",
    "    l6 = gmsh.model.geo.addCurveLoop([-c11,-c3,c7])\n",
    "    l7 = gmsh.model.geo.addCurveLoop([-c2,-c7,-c12])\n",
    "    l8 = gmsh.model.geo.addCurveLoop([-c6,-c9,c2])\n",
    "\n",
    "    s1 = gmsh.model.geo.addSurfaceFilling([l1])\n",
    "    s2 = gmsh.model.geo.addSurfaceFilling([l2])\n",
    "    s3 = gmsh.model.geo.addSurfaceFilling([l3])\n",
    "    s4 = gmsh.model.geo.addSurfaceFilling([l4])\n",
    "    s5 = gmsh.model.geo.addSurfaceFilling([l5])\n",
    "    s6 = gmsh.model.geo.addSurfaceFilling([l6])\n",
    "    s7 = gmsh.model.geo.addSurfaceFilling([l7])\n",
    "    s8 = gmsh.model.geo.addSurfaceFilling([l8])\n",
    "\n",
    "    sl = gmsh.model.geo.addSurfaceLoop([s1, s2, s3, s4, s5, s6, s7, s8])\n",
    "    v = gmsh.model.geo.addVolume([sl])\n",
    "    push!(shells, sl)\n",
    "    return v\n",
    "end"
   ],
   "metadata": {},
   "execution_count": 10
  },
  {
   "cell_type": "markdown",
   "source": [
    "We create five holes in the cube:"
   ],
   "metadata": {}
  },
  {
   "outputs": [],
   "cell_type": "code",
   "source": [
    "x = 0\n",
    "y = 0.75; z = 0; r = 0.09\n",
    "for t in 1:5\n",
    "    global x, z\n",
    "    x += 0.166\n",
    "    z += 0.166\n",
    "    v = cheeseHole(x, y, z, r, lcar3, shells)\n",
    "    gmsh.model.geo.addPhysicalGroup(3, [v], t)\n",
    "end"
   ],
   "metadata": {},
   "execution_count": 11
  },
  {
   "cell_type": "markdown",
   "source": [
    "The volume of the cube, without the 5 holes, is defined by 6 surface loops:\n",
    "the first surface loop defines the exterior surface; the surface loops other\n",
    "than the first one define holes:"
   ],
   "metadata": {}
  },
  {
   "outputs": [],
   "cell_type": "code",
   "source": [
    "gmsh.model.geo.addVolume(shells, 186);"
   ],
   "metadata": {},
   "execution_count": 12
  },
  {
   "outputs": [],
   "cell_type": "code",
   "source": [
    "gmsh.model.geo.synchronize()"
   ],
   "metadata": {},
   "execution_count": 13
  },
  {
   "cell_type": "markdown",
   "source": [
    "We finally define a physical volume for the elements discretizing the cube,\n",
    "without the holes (for which physical groups were already defined in the\n",
    "`cheeseHole()` function):"
   ],
   "metadata": {}
  },
  {
   "outputs": [],
   "cell_type": "code",
   "source": [
    "gmsh.model.addPhysicalGroup(3, [186], 10);"
   ],
   "metadata": {},
   "execution_count": 14
  },
  {
   "cell_type": "markdown",
   "source": [
    "To generate a curvilinear mesh and optimize it to produce provably valid\n",
    "curved elements (see A. Johnen, J.-F. Remacle and C. Geuzaine. Geometric\n",
    "validity of curvilinear finite elements. Journal of Computational Physics\n",
    "233, pp. 359-372, 2013; and T. Toulorge, C. Geuzaine, J.-F. Remacle,\n",
    "J. Lambrechts. Robust untangling of curvilinear meshes. Journal of\n",
    "Computational Physics 254, pp. 8-26, 2013), you can uncomment the following\n",
    "lines:\n",
    "\n",
    "`gmsh.option.setNumber(\"Mesh.ElementOrder\", 2)`\n",
    "`gmsh.option.setNumber(\"Mesh.HighOrderOptimize\", 2)`"
   ],
   "metadata": {}
  },
  {
   "outputs": [
    {
     "name": "stdout",
     "output_type": "stream",
     "text": [
      "Info    : Meshing 1D...\n",
      "Info    : [  0%] Meshing curve 1 (Line)\n",
      "Info    : [ 10%] Meshing curve 2 (Line)\n",
      "Info    : [ 10%] Meshing curve 3 (Line)\n",
      "Info    : [ 10%] Meshing curve 4 (Line)\n",
      "Info    : [ 10%] Meshing curve 5 (Line)\n",
      "Info    : [ 10%] Meshing curve 6 (Line)\n",
      "Info    : [ 10%] Meshing curve 7 (Line)\n",
      "Info    : [ 10%] Meshing curve 8 (Line)\n",
      "Info    : [ 10%] Meshing curve 9 (Line)\n",
      "Info    : [ 20%] Meshing curve 10 (Line)\n",
      "Info    : [ 20%] Meshing curve 11 (Line)\n",
      "Info    : [ 20%] Meshing curve 12 (Line)\n",
      "Info    : [ 20%] Meshing curve 13 (Line)\n",
      "Info    : [ 20%] Meshing curve 14 (Line)\n",
      "Info    : [ 20%] Meshing curve 15 (Line)\n",
      "Info    : [ 20%] Meshing curve 16 (Line)\n",
      "Info    : [ 20%] Meshing curve 17 (Line)\n",
      "Info    : [ 30%] Meshing curve 18 (Line)\n",
      "Info    : [ 30%] Meshing curve 19 (Line)\n",
      "Info    : [ 30%] Meshing curve 20 (Line)\n",
      "Info    : [ 30%] Meshing curve 21 (Line)\n",
      "Info    : [ 30%] Meshing curve 22 (Circle)\n",
      "Info    : [ 30%] Meshing curve 23 (Circle)\n",
      "Info    : [ 30%] Meshing curve 24 (Circle)\n",
      "Info    : [ 30%] Meshing curve 25 (Circle)\n",
      "Info    : [ 40%] Meshing curve 26 (Circle)\n",
      "Info    : [ 40%] Meshing curve 27 (Circle)\n",
      "Info    : [ 40%] Meshing curve 28 (Circle)\n",
      "Info    : [ 40%] Meshing curve 29 (Circle)\n",
      "Info    : [ 40%] Meshing curve 30 (Circle)\n",
      "Info    : [ 40%] Meshing curve 31 (Circle)\n",
      "Info    : [ 40%] Meshing curve 32 (Circle)\n",
      "Info    : [ 40%] Meshing curve 33 (Circle)\n",
      "Info    : [ 50%] Meshing curve 34 (Circle)\n",
      "Info    : [ 50%] Meshing curve 35 (Circle)\n",
      "Info    : [ 50%] Meshing curve 36 (Circle)\n",
      "Info    : [ 50%] Meshing curve 37 (Circle)\n",
      "Info    : [ 50%] Meshing curve 38 (Circle)\n",
      "Info    : [ 50%] Meshing curve 39 (Circle)\n",
      "Info    : [ 50%] Meshing curve 40 (Circle)\n",
      "Info    : [ 50%] Meshing curve 41 (Circle)\n",
      "Info    : [ 60%] Meshing curve 42 (Circle)\n",
      "Info    : [ 60%] Meshing curve 43 (Circle)\n",
      "Info    : [ 60%] Meshing curve 44 (Circle)\n",
      "Info    : [ 60%] Meshing curve 45 (Circle)\n",
      "Info    : [ 60%] Meshing curve 46 (Circle)\n",
      "Info    : [ 60%] Meshing curve 47 (Circle)\n",
      "Info    : [ 60%] Meshing curve 48 (Circle)\n",
      "Info    : [ 60%] Meshing curve 49 (Circle)\n",
      "Info    : [ 70%] Meshing curve 50 (Circle)\n",
      "Info    : [ 70%] Meshing curve 51 (Circle)\n",
      "Info    : [ 70%] Meshing curve 52 (Circle)\n",
      "Info    : [ 70%] Meshing curve 53 (Circle)\n",
      "Info    : [ 70%] Meshing curve 54 (Circle)\n",
      "Info    : [ 70%] Meshing curve 55 (Circle)\n",
      "Info    : [ 70%] Meshing curve 56 (Circle)\n",
      "Info    : [ 70%] Meshing curve 57 (Circle)\n",
      "Info    : [ 80%] Meshing curve 58 (Circle)\n",
      "Info    : [ 80%] Meshing curve 59 (Circle)\n",
      "Info    : [ 80%] Meshing curve 60 (Circle)\n",
      "Info    : [ 80%] Meshing curve 61 (Circle)\n",
      "Info    : [ 80%] Meshing curve 62 (Circle)\n",
      "Info    : [ 80%] Meshing curve 63 (Circle)\n",
      "Info    : [ 80%] Meshing curve 64 (Circle)\n",
      "Info    : [ 80%] Meshing curve 65 (Circle)\n",
      "Info    : [ 90%] Meshing curve 66 (Circle)\n",
      "Info    : [ 90%] Meshing curve 67 (Circle)\n",
      "Info    : [ 90%] Meshing curve 68 (Circle)\n",
      "Info    : [ 90%] Meshing curve 69 (Circle)\n",
      "Info    : [ 90%] Meshing curve 70 (Circle)\n",
      "Info    : [ 90%] Meshing curve 71 (Circle)\n",
      "Info    : [ 90%] Meshing curve 72 (Circle)\n",
      "Info    : [ 90%] Meshing curve 73 (Circle)\n",
      "Info    : [100%] Meshing curve 74 (Circle)\n",
      "Info    : [100%] Meshing curve 75 (Circle)\n",
      "Info    : [100%] Meshing curve 76 (Circle)\n",
      "Info    : [100%] Meshing curve 77 (Circle)\n",
      "Info    : [100%] Meshing curve 78 (Circle)\n",
      "Info    : [100%] Meshing curve 79 (Circle)\n",
      "Info    : [100%] Meshing curve 80 (Circle)\n",
      "Info    : [100%] Meshing curve 81 (Circle)\n",
      "Info    : Done meshing 1D (Wall 0.0189551s, CPU 0.018957s)\n",
      "Info    : Meshing 2D...\n",
      "Info    : [  0%] Meshing surface 23 (Plane, Frontal-Delaunay)\n",
      "Info    : [ 10%] Meshing surface 25 (Plane, Frontal-Delaunay)\n",
      "Info    : [ 10%] Meshing surface 27 (Plane, Frontal-Delaunay)\n",
      "Info    : [ 10%] Meshing surface 29 (Plane, Frontal-Delaunay)\n",
      "Info    : [ 10%] Meshing surface 31 (Plane, Frontal-Delaunay)\n",
      "Info    : [ 20%] Meshing surface 33 (Plane, Frontal-Delaunay)\n",
      "Info    : [ 20%] Meshing surface 35 (Plane, Frontal-Delaunay)\n",
      "Info    : [ 20%] Meshing surface 37 (Plane, Frontal-Delaunay)\n",
      "Info    : [ 20%] Meshing surface 39 (Plane, Frontal-Delaunay)\n",
      "Info    : [ 20%] Meshing surface 40 (Surface, Frontal-Delaunay)\n",
      "Info    : [ 30%] Meshing surface 41 (Surface, Frontal-Delaunay)\n",
      "Info    : [ 30%] Meshing surface 42 (Surface, Frontal-Delaunay)\n",
      "Info    : [ 30%] Meshing surface 43 (Surface, Frontal-Delaunay)\n",
      "Info    : [ 30%] Meshing surface 44 (Surface, Frontal-Delaunay)\n",
      "Info    : [ 30%] Meshing surface 45 (Surface, Frontal-Delaunay)\n",
      "Info    : [ 40%] Meshing surface 46 (Surface, Frontal-Delaunay)\n",
      "Info    : [ 40%] Meshing surface 47 (Surface, Frontal-Delaunay)\n",
      "Info    : [ 40%] Meshing surface 48 (Surface, Frontal-Delaunay)\n",
      "Info    : [ 40%] Meshing surface 49 (Surface, Frontal-Delaunay)\n",
      "Info    : [ 40%] Meshing surface 50 (Surface, Frontal-Delaunay)\n",
      "Info    : [ 50%] Meshing surface 51 (Surface, Frontal-Delaunay)\n",
      "Info    : [ 50%] Meshing surface 52 (Surface, Frontal-Delaunay)\n",
      "Info    : [ 50%] Meshing surface 53 (Surface, Frontal-Delaunay)\n",
      "Info    : [ 50%] Meshing surface 54 (Surface, Frontal-Delaunay)\n",
      "Info    : [ 50%] Meshing surface 55 (Surface, Frontal-Delaunay)\n",
      "Info    : [ 60%] Meshing surface 56 (Surface, Frontal-Delaunay)\n",
      "Info    : [ 60%] Meshing surface 57 (Surface, Frontal-Delaunay)\n",
      "Info    : [ 60%] Meshing surface 58 (Surface, Frontal-Delaunay)\n",
      "Info    : [ 60%] Meshing surface 59 (Surface, Frontal-Delaunay)\n",
      "Info    : [ 60%] Meshing surface 60 (Surface, Frontal-Delaunay)\n",
      "Info    : [ 70%] Meshing surface 61 (Surface, Frontal-Delaunay)\n",
      "Info    : [ 70%] Meshing surface 62 (Surface, Frontal-Delaunay)\n",
      "Info    : [ 70%] Meshing surface 63 (Surface, Frontal-Delaunay)\n",
      "Info    : [ 70%] Meshing surface 64 (Surface, Frontal-Delaunay)\n",
      "Info    : [ 70%] Meshing surface 65 (Surface, Frontal-Delaunay)\n",
      "Info    : [ 80%] Meshing surface 66 (Surface, Frontal-Delaunay)\n",
      "Info    : [ 80%] Meshing surface 67 (Surface, Frontal-Delaunay)\n",
      "Info    : [ 80%] Meshing surface 68 (Surface, Frontal-Delaunay)\n",
      "Info    : [ 80%] Meshing surface 69 (Surface, Frontal-Delaunay)\n",
      "Info    : [ 80%] Meshing surface 70 (Surface, Frontal-Delaunay)\n",
      "Info    : [ 90%] Meshing surface 71 (Surface, Frontal-Delaunay)\n",
      "Info    : [ 90%] Meshing surface 72 (Surface, Frontal-Delaunay)\n",
      "Info    : [ 90%] Meshing surface 73 (Surface, Frontal-Delaunay)\n",
      "Info    : [ 90%] Meshing surface 74 (Surface, Frontal-Delaunay)\n",
      "Info    : [ 90%] Meshing surface 75 (Surface, Frontal-Delaunay)\n",
      "Info    : [100%] Meshing surface 76 (Surface, Frontal-Delaunay)\n",
      "Info    : [100%] Meshing surface 77 (Surface, Frontal-Delaunay)\n",
      "Info    : [100%] Meshing surface 78 (Surface, Frontal-Delaunay)\n",
      "Info    : [100%] Meshing surface 79 (Surface, Frontal-Delaunay)\n",
      "Info    : Done meshing 2D (Wall 0.0553109s, CPU 0.055307s)\n",
      "Info    : Meshing 3D...\n",
      "Info    : 3D Meshing 6 volumes with 1 connected component\n",
      "Info    : Tetrahedrizing 1535 nodes...\n",
      "Info    : Done tetrahedrizing 1543 nodes (Wall 0.020913s, CPU 0.020897s)\n",
      "Info    : Reconstructing mesh...\n",
      "Info    :  - Creating surface mesh\n",
      "Info    :  - Identifying boundary edges\n",
      "Info    :  - Recovering boundary\n",
      "Info    : Done reconstructing mesh (Wall 0.0418952s, CPU 0.041875s)\n",
      "Info    : Found volume 186\n",
      "Info    : Found volume 3\n",
      "Info    : Found volume 2\n",
      "Info    : Found volume 4\n",
      "Info    : Found volume 1\n",
      "Info    : Found volume 5\n",
      "Info    : It. 0 - 0 nodes created - worst tet radius 15.1729 (nodes removed 0 0)\n",
      "Info    : It. 500 - 491 nodes created - worst tet radius 1.41358 (nodes removed 0 9)\n",
      "Info    : It. 1000 - 990 nodes created - worst tet radius 1.1124 (nodes removed 0 10)\n",
      "Info    : 3D refinement terminated (2890 nodes total):\n",
      "Info    :  - 0 Delaunay cavities modified for star shapeness\n",
      "Info    :  - 10 nodes could not be inserted\n",
      "Info    :  - 13936 tetrahedra created in 0.0728553 sec. (191283 tets/s)\n",
      "Info    : Done meshing 3D (Wall 0.156776s, CPU 0.156759s)\n",
      "Info    : Optimizing mesh...\n",
      "Info    : Optimizing volume 1\n",
      "Info    : Optimization starts (volume = 0.00272564) with worst = 0.499334 / average = 0.670617:\n",
      "Info    : 0.00 < quality < 0.10 :         0 elements\n",
      "Info    : 0.10 < quality < 0.20 :         0 elements\n",
      "Info    : 0.20 < quality < 0.30 :         0 elements\n",
      "Info    : 0.30 < quality < 0.40 :         0 elements\n",
      "Info    : 0.40 < quality < 0.50 :         2 elements\n",
      "Info    : 0.50 < quality < 0.60 :        15 elements\n",
      "Info    : 0.60 < quality < 0.70 :        57 elements\n",
      "Info    : 0.70 < quality < 0.80 :        36 elements\n",
      "Info    : 0.80 < quality < 0.90 :         0 elements\n",
      "Info    : 0.90 < quality < 1.00 :         0 elements\n",
      "Info    : No ill-shaped tets in the mesh :-)\n",
      "Info    : 0.00 < quality < 0.10 :         0 elements\n",
      "Info    : 0.10 < quality < 0.20 :         0 elements\n",
      "Info    : 0.20 < quality < 0.30 :         0 elements\n",
      "Info    : 0.30 < quality < 0.40 :         0 elements\n",
      "Info    : 0.40 < quality < 0.50 :         2 elements\n",
      "Info    : 0.50 < quality < 0.60 :        15 elements\n",
      "Info    : 0.60 < quality < 0.70 :        57 elements\n",
      "Info    : 0.70 < quality < 0.80 :        36 elements\n",
      "Info    : 0.80 < quality < 0.90 :         0 elements\n",
      "Info    : 0.90 < quality < 1.00 :         0 elements\n",
      "Info    : Optimizing volume 2\n",
      "Info    : Optimization starts (volume = 0.00272581) with worst = 0.504447 / average = 0.670923:\n",
      "Info    : 0.00 < quality < 0.10 :         0 elements\n",
      "Info    : 0.10 < quality < 0.20 :         0 elements\n",
      "Info    : 0.20 < quality < 0.30 :         0 elements\n",
      "Info    : 0.30 < quality < 0.40 :         0 elements\n",
      "Info    : 0.40 < quality < 0.50 :         0 elements\n",
      "Info    : 0.50 < quality < 0.60 :        17 elements\n",
      "Info    : 0.60 < quality < 0.70 :        56 elements\n",
      "Info    : 0.70 < quality < 0.80 :        37 elements\n",
      "Info    : 0.80 < quality < 0.90 :         0 elements\n",
      "Info    : 0.90 < quality < 1.00 :         0 elements\n",
      "Info    : No ill-shaped tets in the mesh :-)\n",
      "Info    : 0.00 < quality < 0.10 :         0 elements\n",
      "Info    : 0.10 < quality < 0.20 :         0 elements\n",
      "Info    : 0.20 < quality < 0.30 :         0 elements\n",
      "Info    : 0.30 < quality < 0.40 :         0 elements\n",
      "Info    : 0.40 < quality < 0.50 :         0 elements\n",
      "Info    : 0.50 < quality < 0.60 :        17 elements\n",
      "Info    : 0.60 < quality < 0.70 :        56 elements\n",
      "Info    : 0.70 < quality < 0.80 :        37 elements\n",
      "Info    : 0.80 < quality < 0.90 :         0 elements\n",
      "Info    : 0.90 < quality < 1.00 :         0 elements\n",
      "Info    : Optimizing volume 3\n",
      "Info    : Optimization starts (volume = 0.002728) with worst = 0.499334 / average = 0.664608:\n",
      "Info    : 0.00 < quality < 0.10 :         0 elements\n",
      "Info    : 0.10 < quality < 0.20 :         0 elements\n",
      "Info    : 0.20 < quality < 0.30 :         0 elements\n",
      "Info    : 0.30 < quality < 0.40 :         0 elements\n",
      "Info    : 0.40 < quality < 0.50 :         2 elements\n",
      "Info    : 0.50 < quality < 0.60 :        18 elements\n",
      "Info    : 0.60 < quality < 0.70 :        57 elements\n",
      "Info    : 0.70 < quality < 0.80 :        35 elements\n",
      "Info    : 0.80 < quality < 0.90 :         0 elements\n",
      "Info    : 0.90 < quality < 1.00 :         0 elements\n",
      "Info    : No ill-shaped tets in the mesh :-)\n",
      "Info    : 0.00 < quality < 0.10 :         0 elements\n",
      "Info    : 0.10 < quality < 0.20 :         0 elements\n",
      "Info    : 0.20 < quality < 0.30 :         0 elements\n",
      "Info    : 0.30 < quality < 0.40 :         0 elements\n",
      "Info    : 0.40 < quality < 0.50 :         2 elements\n",
      "Info    : 0.50 < quality < 0.60 :        18 elements\n",
      "Info    : 0.60 < quality < 0.70 :        57 elements\n",
      "Info    : 0.70 < quality < 0.80 :        35 elements\n",
      "Info    : 0.80 < quality < 0.90 :         0 elements\n",
      "Info    : 0.90 < quality < 1.00 :         0 elements\n",
      "Info    : Optimizing volume 4\n",
      "Info    : Optimization starts (volume = 0.00272865) with worst = 0.499334 / average = 0.665029:\n",
      "Info    : 0.00 < quality < 0.10 :         0 elements\n",
      "Info    : 0.10 < quality < 0.20 :         0 elements\n",
      "Info    : 0.20 < quality < 0.30 :         0 elements\n",
      "Info    : 0.30 < quality < 0.40 :         0 elements\n",
      "Info    : 0.40 < quality < 0.50 :         2 elements\n",
      "Info    : 0.50 < quality < 0.60 :        18 elements\n",
      "Info    : 0.60 < quality < 0.70 :        57 elements\n",
      "Info    : 0.70 < quality < 0.80 :        35 elements\n",
      "Info    : 0.80 < quality < 0.90 :         0 elements\n",
      "Info    : 0.90 < quality < 1.00 :         0 elements\n",
      "Info    : No ill-shaped tets in the mesh :-)\n",
      "Info    : 0.00 < quality < 0.10 :         0 elements\n",
      "Info    : 0.10 < quality < 0.20 :         0 elements\n",
      "Info    : 0.20 < quality < 0.30 :         0 elements\n",
      "Info    : 0.30 < quality < 0.40 :         0 elements\n",
      "Info    : 0.40 < quality < 0.50 :         2 elements\n",
      "Info    : 0.50 < quality < 0.60 :        18 elements\n",
      "Info    : 0.60 < quality < 0.70 :        57 elements\n",
      "Info    : 0.70 < quality < 0.80 :        35 elements\n",
      "Info    : 0.80 < quality < 0.90 :         0 elements\n",
      "Info    : 0.90 < quality < 1.00 :         0 elements\n",
      "Info    : Optimizing volume 5\n",
      "Info    : Optimization starts (volume = 0.00272218) with worst = 0.499334 / average = 0.676226:\n",
      "Info    : 0.00 < quality < 0.10 :         0 elements\n",
      "Info    : 0.10 < quality < 0.20 :         0 elements\n",
      "Info    : 0.20 < quality < 0.30 :         0 elements\n",
      "Info    : 0.30 < quality < 0.40 :         0 elements\n",
      "Info    : 0.40 < quality < 0.50 :         2 elements\n",
      "Info    : 0.50 < quality < 0.60 :        10 elements\n",
      "Info    : 0.60 < quality < 0.70 :        59 elements\n",
      "Info    : 0.70 < quality < 0.80 :        37 elements\n",
      "Info    : 0.80 < quality < 0.90 :         0 elements\n",
      "Info    : 0.90 < quality < 1.00 :         0 elements\n",
      "Info    : No ill-shaped tets in the mesh :-)\n",
      "Info    : 0.00 < quality < 0.10 :         0 elements\n",
      "Info    : 0.10 < quality < 0.20 :         0 elements\n",
      "Info    : 0.20 < quality < 0.30 :         0 elements\n",
      "Info    : 0.30 < quality < 0.40 :         0 elements\n",
      "Info    : 0.40 < quality < 0.50 :         2 elements\n",
      "Info    : 0.50 < quality < 0.60 :        10 elements\n",
      "Info    : 0.60 < quality < 0.70 :        59 elements\n",
      "Info    : 0.70 < quality < 0.80 :        37 elements\n",
      "Info    : 0.80 < quality < 0.90 :         0 elements\n",
      "Info    : 0.90 < quality < 1.00 :         0 elements\n",
      "Info    : Optimizing volume 186\n",
      "Info    : Optimization starts (volume = 0.86137) with worst = 0.0111303 / average = 0.737256:\n",
      "Info    : 0.00 < quality < 0.10 :        55 elements\n",
      "Info    : 0.10 < quality < 0.20 :        85 elements\n",
      "Info    : 0.20 < quality < 0.30 :       169 elements\n",
      "Info    : 0.30 < quality < 0.40 :       269 elements\n",
      "Info    : 0.40 < quality < 0.50 :       466 elements\n",
      "Info    : 0.50 < quality < 0.60 :      1281 elements\n",
      "Info    : 0.60 < quality < 0.70 :      2243 elements\n",
      "Info    : 0.70 < quality < 0.80 :      3256 elements\n",
      "Info    : 0.80 < quality < 0.90 :      3737 elements\n",
      "Info    : 0.90 < quality < 1.00 :      1821 elements\n",
      "Info    : 301 edge swaps, 8 node relocations (volume = 0.86137): worst = 0.299852 / average = 0.750443 (Wall 0.00552478s, CPU 0.005522s)\n",
      "Info    : No ill-shaped tets in the mesh :-)\n",
      "Info    : 0.00 < quality < 0.10 :         0 elements\n",
      "Info    : 0.10 < quality < 0.20 :         0 elements\n",
      "Info    : 0.20 < quality < 0.30 :         1 elements\n",
      "Info    : 0.30 < quality < 0.40 :       262 elements\n",
      "Info    : 0.40 < quality < 0.50 :       470 elements\n",
      "Info    : 0.50 < quality < 0.60 :      1268 elements\n",
      "Info    : 0.60 < quality < 0.70 :      2255 elements\n",
      "Info    : 0.70 < quality < 0.80 :      3283 elements\n",
      "Info    : 0.80 < quality < 0.90 :      3783 elements\n",
      "Info    : 0.90 < quality < 1.00 :      1796 elements\n",
      "Info    : Done optimizing mesh (Wall 0.0187729s, CPU 0.018768s)\n",
      "Info    : 2895 nodes 17163 elements\n",
      "Info    : Writing 't5.msh'...\n",
      "Info    : Done writing 't5.msh'\n"
     ]
    }
   ],
   "cell_type": "code",
   "source": [
    "gmsh.model.mesh.generate(3)\n",
    "gmsh.write(\"t5.msh\")"
   ],
   "metadata": {},
   "execution_count": 15
  },
  {
   "outputs": [],
   "cell_type": "code",
   "source": [
    "gmsh.finalize()"
   ],
   "metadata": {},
   "execution_count": 16
  },
  {
   "cell_type": "markdown",
   "source": [
    "---\n",
    "\n",
    "*This notebook was generated using [Literate.jl](https://github.com/fredrikekre/Literate.jl).*"
   ],
   "metadata": {}
  }
 ],
 "nbformat_minor": 3,
 "metadata": {
  "language_info": {
   "file_extension": ".jl",
   "mimetype": "application/julia",
   "name": "julia",
   "version": "1.5.4"
  },
  "kernelspec": {
   "name": "julia-1.5",
   "display_name": "Julia 1.5.4",
   "language": "julia"
  }
 },
 "nbformat": 4
}
