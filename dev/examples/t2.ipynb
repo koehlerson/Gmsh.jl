{
 "cells": [
  {
   "cell_type": "markdown",
   "source": [
    "# Tutorial 2\n",
    "\n",
    "## Transformations, extruded geometries, volumes"
   ],
   "metadata": {}
  },
  {
   "outputs": [],
   "cell_type": "code",
   "source": [
    "import gmsh"
   ],
   "metadata": {},
   "execution_count": 1
  },
  {
   "cell_type": "markdown",
   "source": [
    "If `ARGS` is passed to `gmsh.initialize()`, Gmsh will parse the command line\n",
    "in the same way as the standalone Gmsh app:"
   ],
   "metadata": {}
  },
  {
   "outputs": [],
   "cell_type": "code",
   "source": [
    "gmsh.initialize(append!([\"gmsh\"], ARGS))"
   ],
   "metadata": {},
   "execution_count": 2
  },
  {
   "outputs": [],
   "cell_type": "code",
   "source": [
    "gmsh.model.add(\"t2\")"
   ],
   "metadata": {},
   "execution_count": 3
  },
  {
   "cell_type": "markdown",
   "source": [
    "Copied from Tutorial 1:"
   ],
   "metadata": {}
  },
  {
   "outputs": [],
   "cell_type": "code",
   "source": [
    "lc = 1e-2\n",
    "gmsh.model.geo.addPoint(0, 0, 0, lc, 1)\n",
    "gmsh.model.geo.addPoint(.1, 0,  0, lc, 2)\n",
    "gmsh.model.geo.addPoint(.1, .3, 0, lc, 3)\n",
    "gmsh.model.geo.addPoint(0, .3, 0, lc, 4)\n",
    "gmsh.model.geo.addLine(1, 2, 1)\n",
    "gmsh.model.geo.addLine(3, 2, 2)\n",
    "gmsh.model.geo.addLine(3, 4, 3)\n",
    "gmsh.model.geo.addLine(4, 1, 4)\n",
    "gmsh.model.geo.addCurveLoop([4, 1, -2, 3], 1)\n",
    "gmsh.model.geo.addPlaneSurface([1], 1)\n",
    "gmsh.model.geo.synchronize()\n",
    "gmsh.model.addPhysicalGroup(0, [1, 2], 1)\n",
    "gmsh.model.addPhysicalGroup(1, [1, 2], 2)\n",
    "gmsh.model.addPhysicalGroup(2, [1], 6)\n",
    "gmsh.model.setPhysicalName(2, 6, \"My surface\")"
   ],
   "metadata": {},
   "execution_count": 4
  },
  {
   "cell_type": "markdown",
   "source": [
    "We can then add new points and curves in the same way as we did in `t1.jl`:"
   ],
   "metadata": {}
  },
  {
   "outputs": [
    {
     "output_type": "execute_result",
     "data": {
      "text/plain": "5"
     },
     "metadata": {},
     "execution_count": 5
    }
   ],
   "cell_type": "code",
   "source": [
    "gmsh.model.geo.addPoint(0, .4, 0, lc, 5)\n",
    "gmsh.model.geo.addLine(4, 5, 5)"
   ],
   "metadata": {},
   "execution_count": 5
  },
  {
   "cell_type": "markdown",
   "source": [
    "But Gmsh also provides tools to transform (translate, rotate, etc.)\n",
    "elementary entities or copies of elementary entities.  Geometrical\n",
    "transformations take a vector of pairs of integers as first argument, which\n",
    "contains the list of entities, represented by (dimension, tag) pairs.  For\n",
    "example, the point 5 (dimension=0, tag=5) can be moved by 0.02 to the left\n",
    "(dx=-0.02, dy=0, dz=0) with"
   ],
   "metadata": {}
  },
  {
   "outputs": [],
   "cell_type": "code",
   "source": [
    "gmsh.model.geo.translate([(0, 5)], -0.02, 0, 0)"
   ],
   "metadata": {},
   "execution_count": 6
  },
  {
   "cell_type": "markdown",
   "source": [
    "And it can be further rotated by -Pi/4 around (0, 0.3, 0) (with the rotation\n",
    "along the z axis) with:"
   ],
   "metadata": {}
  },
  {
   "outputs": [],
   "cell_type": "code",
   "source": [
    "gmsh.model.geo.rotate([(0, 5)], 0,0.3,0, 0,0,1, -pi/4)"
   ],
   "metadata": {},
   "execution_count": 7
  },
  {
   "cell_type": "markdown",
   "source": [
    "Note that there are no units in Gmsh: coordinates are just numbers - it's\n",
    "up to the user to associate a meaning to them.\n",
    "\n",
    "Point 3 can be duplicated and translated by 0.05 along the y axis by using the\n",
    "copy() function, which takes a vector of (dim, tag) pairs as input, and\n",
    "returns another vector of (dim, tag) pairs:"
   ],
   "metadata": {}
  },
  {
   "outputs": [],
   "cell_type": "code",
   "source": [
    "ov = gmsh.model.geo.copy([(0, 3)])\n",
    "gmsh.model.geo.translate(ov, 0, 0.05, 0)"
   ],
   "metadata": {},
   "execution_count": 8
  },
  {
   "cell_type": "markdown",
   "source": [
    "The new point tag is available in `ov[0][1]`, and can be used to create new\n",
    "lines:"
   ],
   "metadata": {}
  },
  {
   "outputs": [
    {
     "output_type": "execute_result",
     "data": {
      "text/plain": "11"
     },
     "metadata": {},
     "execution_count": 9
    }
   ],
   "cell_type": "code",
   "source": [
    "gmsh.model.geo.addLine(3, ov[1][2], 7)\n",
    "gmsh.model.geo.addLine(ov[1][2], 5, 8)\n",
    "gmsh.model.geo.addCurveLoop([5,-8,-7,3], 10)\n",
    "gmsh.model.geo.addPlaneSurface([10], 11)"
   ],
   "metadata": {},
   "execution_count": 9
  },
  {
   "cell_type": "markdown",
   "source": [
    "In the same way, we can translate copies of the two surfaces 1 and 11 to the\n",
    "right with the following command:"
   ],
   "metadata": {}
  },
  {
   "outputs": [],
   "cell_type": "code",
   "source": [
    "ov = gmsh.model.geo.copy([(2, 1), (2, 11)])\n",
    "gmsh.model.geo.translate(ov, 0.12, 0, 0)"
   ],
   "metadata": {},
   "execution_count": 10
  },
  {
   "outputs": [
    {
     "name": "stdout",
     "output_type": "stream",
     "text": [
      "New surfaces 12 and 17\n"
     ]
    }
   ],
   "cell_type": "code",
   "source": [
    "println(\"New surfaces \", ov[1][2], \" and \", ov[2][2])"
   ],
   "metadata": {},
   "execution_count": 11
  },
  {
   "cell_type": "markdown",
   "source": [
    "Volumes are the fourth type of elementary entities in Gmsh. In the same way\n",
    "one defines curve loops to build surfaces, one has to define surface loops\n",
    "(i.e. *shells*) to build volumes. The following volume does not have holes and\n",
    "thus consists of a single surface loop:"
   ],
   "metadata": {}
  },
  {
   "outputs": [
    {
     "output_type": "execute_result",
     "data": {
      "text/plain": "102"
     },
     "metadata": {},
     "execution_count": 12
    }
   ],
   "cell_type": "code",
   "source": [
    "gmsh.model.geo.addPoint(0., 0.3, 0.12, lc, 100)\n",
    "gmsh.model.geo.addPoint(0.1, 0.3, 0.12, lc, 101)\n",
    "gmsh.model.geo.addPoint(0.1, 0.35, 0.12, lc, 102)"
   ],
   "metadata": {},
   "execution_count": 12
  },
  {
   "cell_type": "markdown",
   "source": [
    "We would like to retrieve the coordinates of point 5 to create point 103, so\n",
    "we synchronize the model, and use `getValue()`"
   ],
   "metadata": {}
  },
  {
   "outputs": [
    {
     "output_type": "execute_result",
     "data": {
      "text/plain": "103"
     },
     "metadata": {},
     "execution_count": 13
    }
   ],
   "cell_type": "code",
   "source": [
    "gmsh.model.geo.synchronize()\n",
    "xyz = gmsh.model.getValue(0, 5, [])\n",
    "gmsh.model.geo.addPoint(xyz[1], xyz[2], 0.12, lc, 103)"
   ],
   "metadata": {},
   "execution_count": 13
  },
  {
   "outputs": [
    {
     "output_type": "execute_result",
     "data": {
      "text/plain": "117"
     },
     "metadata": {},
     "execution_count": 14
    }
   ],
   "cell_type": "code",
   "source": [
    "gmsh.model.geo.addLine(4, 100, 110)\n",
    "gmsh.model.geo.addLine(3, 101, 111)\n",
    "gmsh.model.geo.addLine(6, 102, 112)\n",
    "gmsh.model.geo.addLine(5, 103, 113)\n",
    "gmsh.model.geo.addLine(103, 100, 114)\n",
    "gmsh.model.geo.addLine(100, 101, 115)\n",
    "gmsh.model.geo.addLine(101, 102, 116)\n",
    "gmsh.model.geo.addLine(102, 103, 117)"
   ],
   "metadata": {},
   "execution_count": 14
  },
  {
   "outputs": [
    {
     "output_type": "execute_result",
     "data": {
      "text/plain": "127"
     },
     "metadata": {},
     "execution_count": 15
    }
   ],
   "cell_type": "code",
   "source": [
    "gmsh.model.geo.addCurveLoop([115, -111, 3, 110], 118)\n",
    "gmsh.model.geo.addPlaneSurface([118], 119)\n",
    "gmsh.model.geo.addCurveLoop([111, 116, -112, -7], 120)\n",
    "gmsh.model.geo.addPlaneSurface([120], 121)\n",
    "gmsh.model.geo.addCurveLoop([112, 117, -113, -8], 122)\n",
    "gmsh.model.geo.addPlaneSurface([122], 123)\n",
    "gmsh.model.geo.addCurveLoop([114, -110, 5, 113], 124)\n",
    "gmsh.model.geo.addPlaneSurface([124], 125)\n",
    "gmsh.model.geo.addCurveLoop([115, 116, 117, 114], 126)\n",
    "gmsh.model.geo.addPlaneSurface([126], 127)"
   ],
   "metadata": {},
   "execution_count": 15
  },
  {
   "outputs": [
    {
     "output_type": "execute_result",
     "data": {
      "text/plain": "129"
     },
     "metadata": {},
     "execution_count": 16
    }
   ],
   "cell_type": "code",
   "source": [
    "gmsh.model.geo.addSurfaceLoop([127, 119, 121, 123, 125, 11], 128)\n",
    "gmsh.model.geo.addVolume([128], 129)"
   ],
   "metadata": {},
   "execution_count": 16
  },
  {
   "cell_type": "markdown",
   "source": [
    "When a volume can be extruded from a surface, it is usually easier to use the\n",
    "`extrude()` function directly instead of creating all the points, curves and\n",
    "surfaces by hand. For example, the following command extrudes the surface 11\n",
    "along the z axis and automatically creates a new volume (as well as all the\n",
    "needed points, curves and surfaces). As expected, the function takes a vector\n",
    "of (dim, tag) pairs as input as well as the translation vector, and returns a\n",
    "vector of (dim, tag) pairs as output:"
   ],
   "metadata": {}
  },
  {
   "outputs": [
    {
     "output_type": "execute_result",
     "data": {
      "text/plain": "6-element Array{Tuple{Int32,Int32},1}:\n (2, 151)\n (3, 130)\n (2, 138)\n (2, 142)\n (2, 146)\n (2, 150)"
     },
     "metadata": {},
     "execution_count": 17
    }
   ],
   "cell_type": "code",
   "source": [
    "ov2 = gmsh.model.geo.extrude([ov[2]], 0, 0, 0.12)"
   ],
   "metadata": {},
   "execution_count": 17
  },
  {
   "cell_type": "markdown",
   "source": [
    "Mesh sizes associated to geometrical points can be set by passing a vector of\n",
    "(dim, tag) pairs for the corresponding points:"
   ],
   "metadata": {}
  },
  {
   "outputs": [],
   "cell_type": "code",
   "source": [
    "gmsh.model.geo.mesh.setSize([(0,103), (0,105), (0,109), (0,102), (0,28),\n",
    "                             (0, 24), (0,6), (0,5)], lc * 3)"
   ],
   "metadata": {},
   "execution_count": 18
  },
  {
   "cell_type": "markdown",
   "source": [
    "We finish by synchronizing the data from the built-in CAD kernel with the Gmsh\n",
    "model:"
   ],
   "metadata": {}
  },
  {
   "outputs": [],
   "cell_type": "code",
   "source": [
    "gmsh.model.geo.synchronize()"
   ],
   "metadata": {},
   "execution_count": 19
  },
  {
   "cell_type": "markdown",
   "source": [
    "We group volumes 129 and 130 in a single physical group with tag `1` and name\n",
    "\"The volume\":"
   ],
   "metadata": {}
  },
  {
   "outputs": [],
   "cell_type": "code",
   "source": [
    "gmsh.model.addPhysicalGroup(3, [129,130], 1)\n",
    "gmsh.model.setPhysicalName(3, 1, \"The volume\")"
   ],
   "metadata": {},
   "execution_count": 20
  },
  {
   "outputs": [
    {
     "name": "stdout",
     "output_type": "stream",
     "text": [
      "Info    : Meshing 1D...\n",
      "Info    : [  0%] Meshing curve 1 (Line)\n",
      "Info    : [ 10%] Meshing curve 2 (Line)\n",
      "Info    : [ 10%] Meshing curve 3 (Line)\n",
      "Info    : [ 10%] Meshing curve 4 (Line)\n",
      "Info    : [ 20%] Meshing curve 5 (Line)\n",
      "Info    : [ 20%] Meshing curve 7 (Line)\n",
      "Info    : [ 20%] Meshing curve 8 (Line)\n",
      "Info    : [ 30%] Meshing curve 13 (Line)\n",
      "Info    : [ 30%] Meshing curve 14 (Line)\n",
      "Info    : [ 30%] Meshing curve 15 (Line)\n",
      "Info    : [ 40%] Meshing curve 16 (Line)\n",
      "Info    : [ 40%] Meshing curve 18 (Line)\n",
      "Info    : [ 40%] Meshing curve 19 (Line)\n",
      "Info    : [ 50%] Meshing curve 20 (Line)\n",
      "Info    : [ 50%] Meshing curve 110 (Line)\n",
      "Info    : [ 50%] Meshing curve 111 (Line)\n",
      "Info    : [ 60%] Meshing curve 112 (Line)\n",
      "Info    : [ 60%] Meshing curve 113 (Line)\n",
      "Info    : [ 60%] Meshing curve 114 (Line)\n",
      "Info    : [ 70%] Meshing curve 115 (Line)\n",
      "Info    : [ 70%] Meshing curve 116 (Line)\n",
      "Info    : [ 70%] Meshing curve 117 (Line)\n",
      "Info    : [ 80%] Meshing curve 131 (Line)\n",
      "Info    : [ 80%] Meshing curve 132 (Line)\n",
      "Info    : [ 80%] Meshing curve 133 (Line)\n",
      "Info    : [ 90%] Meshing curve 134 (Line)\n",
      "Info    : [ 90%] Meshing curve 136 (Line)\n",
      "Info    : [ 90%] Meshing curve 137 (Line)\n",
      "Info    : [100%] Meshing curve 141 (Line)\n",
      "Info    : [100%] Meshing curve 145 (Line)\n",
      "Info    : Done meshing 1D (Wall 0.00912371s, CPU 0.009096s)\n",
      "Info    : Meshing 2D...\n",
      "Info    : [  0%] Meshing surface 1 (Plane, Frontal-Delaunay)\n",
      "Info    : [ 10%] Meshing surface 11 (Plane, Frontal-Delaunay)\n",
      "Info    : [ 20%] Meshing surface 12 (Plane, Frontal-Delaunay)\n",
      "Info    : [ 30%] Meshing surface 17 (Plane, Frontal-Delaunay)\n",
      "Info    : [ 30%] Meshing surface 119 (Plane, Frontal-Delaunay)\n",
      "Info    : [ 40%] Meshing surface 121 (Plane, Frontal-Delaunay)\n",
      "Info    : [ 50%] Meshing surface 123 (Plane, Frontal-Delaunay)\n",
      "Info    : [ 50%] Meshing surface 125 (Plane, Frontal-Delaunay)\n",
      "Info    : [ 60%] Meshing surface 127 (Plane, Frontal-Delaunay)\n",
      "Info    : [ 70%] Meshing surface 138 (Surface, Frontal-Delaunay)\n",
      "Info    : [ 80%] Meshing surface 142 (Surface, Frontal-Delaunay)\n",
      "Info    : [ 80%] Meshing surface 146 (Surface, Frontal-Delaunay)\n",
      "Info    : [ 90%] Meshing surface 150 (Surface, Frontal-Delaunay)\n",
      "Info    : [100%] Meshing surface 151 (Plane, Frontal-Delaunay)\n",
      "Info    : Done meshing 2D (Wall 0.0450192s, CPU 0.044987s)\n",
      "Info    : Meshing 3D...\n",
      "Info    : 3D Meshing 2 volumes with 2 connected components\n",
      "Info    : Tetrahedrizing 317 nodes...\n",
      "Info    : Done tetrahedrizing 325 nodes (Wall 0.00341854s, CPU 0.003418s)\n",
      "Info    : Reconstructing mesh...\n",
      "Info    :  - Creating surface mesh\n",
      "Info    :  - Identifying boundary edges\n",
      "Info    :  - Recovering boundary\n",
      "Info    : Done reconstructing mesh (Wall 0.00723328s, CPU 0.007231s)\n",
      "Info    : Found volume 129\n",
      "Info    : It. 0 - 0 nodes created - worst tet radius 2.80713 (nodes removed 0 0)\n",
      "Info    : 3D refinement terminated (1477 nodes total):\n",
      "Info    :  - 0 Delaunay cavities modified for star shapeness\n",
      "Info    :  - 0 nodes could not be inserted\n",
      "Info    :  - 1254 tetrahedra created in 0.00378904 sec. (330954 tets/s)\n",
      "Info    : Tetrahedrizing 316 nodes...\n",
      "Info    : Done tetrahedrizing 324 nodes (Wall 0.00376494s, CPU 0.003765s)\n",
      "Info    : Reconstructing mesh...\n",
      "Info    :  - Creating surface mesh\n",
      "Info    :  - Identifying boundary edges\n",
      "Info    :  - Recovering boundary\n",
      "Info    : Done reconstructing mesh (Wall 0.00759249s, CPU 0.007583s)\n",
      "Info    : Found volume 130\n",
      "Info    : It. 0 - 0 nodes created - worst tet radius 2.82349 (nodes removed 0 0)\n",
      "Info    : 3D refinement terminated (1476 nodes total):\n",
      "Info    :  - 0 Delaunay cavities modified for star shapeness\n",
      "Info    :  - 0 nodes could not be inserted\n",
      "Info    :  - 1239 tetrahedra created in 0.00377264 sec. (328416 tets/s)\n",
      "Info    : Done meshing 3D (Wall 0.0616945s, CPU 0.049748s)\n",
      "Info    : Optimizing mesh...\n",
      "Info    : Optimizing volume 129\n",
      "Info    : Optimization starts (volume = 0.000639411) with worst = 0.0417493 / average = 0.722401:\n",
      "Info    : 0.00 < quality < 0.10 :         6 elements\n",
      "Info    : 0.10 < quality < 0.20 :        13 elements\n",
      "Info    : 0.20 < quality < 0.30 :        20 elements\n",
      "Info    : 0.30 < quality < 0.40 :        40 elements\n",
      "Info    : 0.40 < quality < 0.50 :        44 elements\n",
      "Info    : 0.50 < quality < 0.60 :       103 elements\n",
      "Info    : 0.60 < quality < 0.70 :       213 elements\n",
      "Info    : 0.70 < quality < 0.80 :       383 elements\n",
      "Info    : 0.80 < quality < 0.90 :       286 elements\n",
      "Info    : 0.90 < quality < 1.00 :       146 elements\n",
      "Info    : 39 edge swaps, 0 node relocations (volume = 0.000639411): worst = 0.204 / average = 0.739076 (Wall 0.000755909s, CPU 0.000735s)\n",
      "Info    : 40 edge swaps, 0 node relocations (volume = 0.000639411): worst = 0.304861 / average = 0.739687 (Wall 0.000839809s, CPU 0.000817s)\n",
      "Info    : No ill-shaped tets in the mesh :-)\n",
      "Info    : 0.00 < quality < 0.10 :         0 elements\n",
      "Info    : 0.10 < quality < 0.20 :         0 elements\n",
      "Info    : 0.20 < quality < 0.30 :         0 elements\n",
      "Info    : 0.30 < quality < 0.40 :        35 elements\n",
      "Info    : 0.40 < quality < 0.50 :        47 elements\n",
      "Info    : 0.50 < quality < 0.60 :       106 elements\n",
      "Info    : 0.60 < quality < 0.70 :       214 elements\n",
      "Info    : 0.70 < quality < 0.80 :       383 elements\n",
      "Info    : 0.80 < quality < 0.90 :       289 elements\n",
      "Info    : 0.90 < quality < 1.00 :       146 elements\n",
      "Info    : Optimizing volume 130\n",
      "Info    : Optimization starts (volume = 0.000639411) with worst = 0.0196513 / average = 0.721123:\n",
      "Info    : 0.00 < quality < 0.10 :         9 elements\n",
      "Info    : 0.10 < quality < 0.20 :        14 elements\n",
      "Info    : 0.20 < quality < 0.30 :        18 elements\n",
      "Info    : 0.30 < quality < 0.40 :        31 elements\n",
      "Info    : 0.40 < quality < 0.50 :        47 elements\n",
      "Info    : 0.50 < quality < 0.60 :       105 elements\n",
      "Info    : 0.60 < quality < 0.70 :       219 elements\n",
      "Info    : 0.70 < quality < 0.80 :       362 elements\n",
      "Info    : 0.80 < quality < 0.90 :       288 elements\n",
      "Info    : 0.90 < quality < 1.00 :       146 elements\n",
      "Info    : 40 edge swaps, 0 node relocations (volume = 0.000639411): worst = 0.169257 / average = 0.739275 (Wall 0.000704408s, CPU 0.000705s)\n",
      "Info    : 43 edge swaps, 0 node relocations (volume = 0.000639411): worst = 0.285488 / average = 0.73987 (Wall 0.00084381s, CPU 0.000845s)\n",
      "Info    : 44 edge swaps, 0 node relocations (volume = 0.000639411): worst = 0.302373 / average = 0.740221 (Wall 0.000924711s, CPU 0.000925s)\n",
      "Info    : No ill-shaped tets in the mesh :-)\n",
      "Info    : 0.00 < quality < 0.10 :         0 elements\n",
      "Info    : 0.10 < quality < 0.20 :         0 elements\n",
      "Info    : 0.20 < quality < 0.30 :         0 elements\n",
      "Info    : 0.30 < quality < 0.40 :        24 elements\n",
      "Info    : 0.40 < quality < 0.50 :        58 elements\n",
      "Info    : 0.50 < quality < 0.60 :       104 elements\n",
      "Info    : 0.60 < quality < 0.70 :       211 elements\n",
      "Info    : 0.70 < quality < 0.80 :       366 elements\n",
      "Info    : 0.80 < quality < 0.90 :       293 elements\n",
      "Info    : 0.90 < quality < 1.00 :       146 elements\n",
      "Info    : Done optimizing mesh (Wall 0.00390445s, CPU 0.003853s)\n",
      "Info    : 1535 nodes 5438 elements\n"
     ]
    }
   ],
   "cell_type": "code",
   "source": [
    "gmsh.model.mesh.generate(3)"
   ],
   "metadata": {},
   "execution_count": 21
  },
  {
   "cell_type": "markdown",
   "source": [
    "We finally generate and save the mesh:"
   ],
   "metadata": {}
  },
  {
   "outputs": [
    {
     "name": "stdout",
     "output_type": "stream",
     "text": [
      "Info    : Writing 't2.msh'...\n",
      "Info    : Done writing 't2.msh'\n"
     ]
    }
   ],
   "cell_type": "code",
   "source": [
    "gmsh.write(\"t2.msh\")"
   ],
   "metadata": {},
   "execution_count": 22
  },
  {
   "cell_type": "markdown",
   "source": [
    "Note that, if the transformation tools are handy to create complex geometries,\n",
    "it is also sometimes useful to generate the *flat* geometry, with an explicit\n",
    "representation of all the elementary entities.\n",
    "\n",
    "With the built-in CAD kernel, this can be achieved by saving the model in the\n",
    "*Gmsh Unrolled GEO* format:\n",
    "\n",
    "`gmsh.write(\"t2.geo_unrolled\");`\n",
    "\n",
    "With the OpenCASCADE CAD kernel, unrolling the geometry can be achieved by\n",
    "exporting in the `OpenCASCADE BRep' format:\n",
    "\n",
    "`gmsh.write(\"t2.brep\");`\n",
    "\n",
    "(OpenCASCADE geometries can also be exported as STEP files.)\n",
    "\n",
    "It is important to note that Gmsh never translates geometry data into a common\n",
    "representation: all the operations on a geometrical entity are performed\n",
    "natively with the associated CAD kernel. Consequently, one cannot export a\n",
    "geometry constructed with the built-in kernel as an OpenCASCADE BRep file; or\n",
    "export an OpenCASCADE model as an Unrolled GEO file."
   ],
   "metadata": {}
  },
  {
   "outputs": [],
   "cell_type": "code",
   "source": [
    "gmsh.finalize()"
   ],
   "metadata": {},
   "execution_count": 23
  },
  {
   "cell_type": "markdown",
   "source": [
    "---\n",
    "\n",
    "*This notebook was generated using [Literate.jl](https://github.com/fredrikekre/Literate.jl).*"
   ],
   "metadata": {}
  }
 ],
 "nbformat_minor": 3,
 "metadata": {
  "language_info": {
   "file_extension": ".jl",
   "mimetype": "application/julia",
   "name": "julia",
   "version": "1.5.3"
  },
  "kernelspec": {
   "name": "julia-1.5",
   "display_name": "Julia 1.5.3",
   "language": "julia"
  }
 },
 "nbformat": 4
}
