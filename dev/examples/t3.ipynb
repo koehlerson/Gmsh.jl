{
 "cells": [
  {
   "cell_type": "markdown",
   "source": [
    "# Tutorial 3\n",
    "\n",
    "## Extruded meshes, options"
   ],
   "metadata": {}
  },
  {
   "outputs": [],
   "cell_type": "code",
   "source": [
    "import gmsh"
   ],
   "metadata": {},
   "execution_count": 1
  },
  {
   "outputs": [],
   "cell_type": "code",
   "source": [
    "gmsh.initialize()"
   ],
   "metadata": {},
   "execution_count": 2
  },
  {
   "outputs": [],
   "cell_type": "code",
   "source": [
    "gmsh.model.add(\"t3\")"
   ],
   "metadata": {},
   "execution_count": 3
  },
  {
   "cell_type": "markdown",
   "source": [
    "Copied from tutorial 1:"
   ],
   "metadata": {}
  },
  {
   "outputs": [],
   "cell_type": "code",
   "source": [
    "lc = 1e-2\n",
    "gmsh.model.geo.addPoint(0, 0, 0, lc, 1)\n",
    "gmsh.model.geo.addPoint(.1, 0,  0, lc, 2)\n",
    "gmsh.model.geo.addPoint(.1, .3, 0, lc, 3)\n",
    "gmsh.model.geo.addPoint(0, .3, 0, lc, 4)\n",
    "gmsh.model.geo.addLine(1, 2, 1)\n",
    "gmsh.model.geo.addLine(3, 2, 2)\n",
    "gmsh.model.geo.addLine(3, 4, 3)\n",
    "gmsh.model.geo.addLine(4, 1, 4)\n",
    "gmsh.model.geo.addCurveLoop([4, 1, -2, 3], 1)\n",
    "gmsh.model.geo.addPlaneSurface([1], 1)\n",
    "gmsh.model.geo.synchronize()\n",
    "gmsh.model.addPhysicalGroup(0, [1, 2], 1)\n",
    "gmsh.model.addPhysicalGroup(1, [1, 2], 2)\n",
    "gmsh.model.addPhysicalGroup(2, [1], 6)\n",
    "gmsh.model.setPhysicalName(2, 6, \"My surface\")"
   ],
   "metadata": {},
   "execution_count": 4
  },
  {
   "cell_type": "markdown",
   "source": [
    "As in Tutorial 2, we plan to perform an extrusion along the z axis.  But here,\n",
    "instead of only extruding the geometry, we also want to extrude the 2D\n",
    "mesh. This is done with the same `extrude()` function, but by specifying\n",
    "element 'Layers' (2 layers in this case, the first one with 8 subdivisions and\n",
    "the second one with 2 subdivisions, both with a height of h/2). The number of\n",
    "elements for each layer and the (end) height of each layer are specified in\n",
    "two vectors:"
   ],
   "metadata": {}
  },
  {
   "outputs": [
    {
     "output_type": "execute_result",
     "data": {
      "text/plain": "6-element Array{Tuple{Int32,Int32},1}:\n (2, 28)\n (3, 1)\n (2, 15)\n (2, 19)\n (2, 23)\n (2, 27)"
     },
     "metadata": {},
     "execution_count": 5
    }
   ],
   "cell_type": "code",
   "source": [
    "h = 0.1\n",
    "angle = 90.\n",
    "ov = gmsh.model.geo.extrude([(2,1)], 0, 0, h, [8,2], [0.5,1])"
   ],
   "metadata": {},
   "execution_count": 5
  },
  {
   "cell_type": "markdown",
   "source": [
    "The extrusion can also be performed with a rotation instead of a translation,\n",
    "and the resulting mesh can be recombined into prisms (we use only one layer\n",
    "here, with 7 subdivisions). All rotations are specified by an an axis point\n",
    "(-0.1, 0, 0.1), an axis direction (0, 1, 0), and a rotation angle (-Pi/2):"
   ],
   "metadata": {}
  },
  {
   "outputs": [
    {
     "output_type": "execute_result",
     "data": {
      "text/plain": "6-element Array{Tuple{Int32,Int32},1}:\n (2, 50)\n (3, 2)\n (2, 37)\n (2, 41)\n (2, 45)\n (2, 49)"
     },
     "metadata": {},
     "execution_count": 6
    }
   ],
   "cell_type": "code",
   "source": [
    "ov = gmsh.model.geo.revolve([(2,28)], -0.1,0,0.1, 0,1,0, -pi/2, [7])"
   ],
   "metadata": {},
   "execution_count": 6
  },
  {
   "cell_type": "markdown",
   "source": [
    "Using the built-in geometry kernel, only rotations with angles < Pi are\n",
    "supported. To do a full turn, you will thus need to apply at least 3\n",
    "rotations. The OpenCASCADE geometry kernel does not have this limitation.\n",
    "\n",
    "A `translation(-2*h, 0, 0)` and a `rotation((0,0.15,0.25), (1,0,0), Pi/2)` can\n",
    "also be combined to form a \"twist\".  The last (optional) argument for the\n",
    "`extrude()` and `twist()` functions specifies whether the extruded mesh should be\n",
    "recombined or not."
   ],
   "metadata": {}
  },
  {
   "outputs": [
    {
     "output_type": "execute_result",
     "data": {
      "text/plain": "6-element Array{Tuple{Int32,Int32},1}:\n (2, 72)\n (3, 3)\n (2, 59)\n (2, 63)\n (2, 67)\n (2, 71)"
     },
     "metadata": {},
     "execution_count": 7
    }
   ],
   "cell_type": "code",
   "source": [
    "ov = gmsh.model.geo.twist([(2,50)], 0,0.15,0.25, -2*h,0,0, 1,0,0,\n",
    "                          angle*pi/180., [10], [], true)"
   ],
   "metadata": {},
   "execution_count": 7
  },
  {
   "outputs": [],
   "cell_type": "code",
   "source": [
    "gmsh.model.geo.synchronize()"
   ],
   "metadata": {},
   "execution_count": 8
  },
  {
   "cell_type": "markdown",
   "source": [
    "All the extrusion functions return a vector of extruded entities: the \"top\" of\n",
    "the extruded surface (in `ov[0]`), the newly created volume (in `ov[1]`) and\n",
    "the tags of the lateral surfaces (in `ov[2]`, `ov[3]`, ...).\n",
    "\n",
    "We can then define a new physical volume (with tag 101) to group all the\n",
    "elementary volumes:"
   ],
   "metadata": {}
  },
  {
   "outputs": [
    {
     "output_type": "execute_result",
     "data": {
      "text/plain": "101"
     },
     "metadata": {},
     "execution_count": 9
    }
   ],
   "cell_type": "code",
   "source": [
    "gmsh.model.addPhysicalGroup(3, [1, 2, ov[2][2]], 101)"
   ],
   "metadata": {},
   "execution_count": 9
  },
  {
   "outputs": [
    {
     "name": "stdout",
     "output_type": "stream",
     "text": [
      "Info    : Meshing 1D...\n",
      "Info    : [  0%] Meshing curve 1 (Line)\n",
      "Info    : [ 10%] Meshing curve 2 (Line)\n",
      "Info    : [ 10%] Meshing curve 3 (Line)\n",
      "Info    : [ 20%] Meshing curve 4 (Line)\n",
      "Info    : [ 20%] Meshing curve 8 (Extruded)\n",
      "Info    : [ 20%] Meshing curve 9 (Extruded)\n",
      "Info    : [ 30%] Meshing curve 10 (Extruded)\n",
      "Info    : [ 30%] Meshing curve 11 (Extruded)\n",
      "Info    : [ 30%] Meshing curve 13 (Extruded)\n",
      "Info    : [ 40%] Meshing curve 14 (Extruded)\n",
      "Info    : [ 40%] Meshing curve 18 (Extruded)\n",
      "Info    : [ 40%] Meshing curve 22 (Extruded)\n",
      "Info    : [ 50%] Meshing curve 30 (Extruded)\n",
      "Info    : [ 50%] Meshing curve 31 (Extruded)\n",
      "Info    : [ 50%] Meshing curve 32 (Extruded)\n",
      "Info    : [ 60%] Meshing curve 33 (Extruded)\n",
      "Info    : [ 60%] Meshing curve 35 (Extruded)\n",
      "Info    : [ 70%] Meshing curve 36 (Extruded)\n",
      "Info    : [ 70%] Meshing curve 40 (Extruded)\n",
      "Info    : [ 70%] Meshing curve 44 (Extruded)\n",
      "Info    : [ 80%] Meshing curve 52 (Extruded)\n",
      "Info    : [ 80%] Meshing curve 53 (Extruded)\n",
      "Info    : [ 80%] Meshing curve 54 (Extruded)\n",
      "Info    : [ 90%] Meshing curve 55 (Extruded)\n",
      "Info    : [ 90%] Meshing curve 57 (Extruded)\n",
      "Info    : [ 90%] Meshing curve 58 (Extruded)\n",
      "Info    : [100%] Meshing curve 62 (Extruded)\n",
      "Info    : [100%] Meshing curve 66 (Extruded)\n",
      "Info    : Done meshing 1D (Wall 0.000472507s, CPU 0.000475s)\n",
      "Info    : Meshing 2D...\n",
      "Info    : [  0%] Meshing surface 1 (Plane, Frontal-Delaunay)\n",
      "Info    : [ 10%] Meshing surface 15 (Extruded)\n",
      "Info    : [ 20%] Meshing surface 19 (Extruded)\n",
      "Info    : [ 20%] Meshing surface 23 (Extruded)\n",
      "Info    : [ 30%] Meshing surface 27 (Extruded)\n",
      "Info    : [ 40%] Meshing surface 28 (Extruded)\n",
      "Info    : [ 40%] Meshing surface 37 (Extruded)\n",
      "Info    : [ 50%] Meshing surface 41 (Extruded)\n",
      "Info    : [ 50%] Meshing surface 45 (Extruded)\n",
      "Info    : [ 60%] Meshing surface 49 (Extruded)\n",
      "Info    : [ 70%] Meshing surface 50 (Extruded)\n",
      "Info    : [ 70%] Meshing surface 59 (Extruded)\n",
      "Info    : [ 80%] Meshing surface 63 (Extruded)\n",
      "Info    : [ 90%] Meshing surface 67 (Extruded)\n",
      "Info    : [ 90%] Meshing surface 71 (Extruded)\n",
      "Info    : [100%] Meshing surface 72 (Extruded)\n",
      "Info    : Done meshing 2D (Wall 0.0264537s, CPU 0.02645s)\n",
      "Info    : Meshing 3D...\n",
      "Info    : Meshing volume 1 (Extruded)\n",
      "Info    : Meshing volume 2 (Extruded)\n",
      "Info    : Meshing volume 3 (Extruded)\n",
      "Info    : Subdividing extruded mesh\n",
      "Info    : Swapping 391\n",
      "Info    : Swapping 51\n",
      "Info    : Swapping 0\n",
      "Info    : Remeshing surface 23\n",
      "Info    : Meshing surface 23 (Extruded)\n",
      "Info    : Remeshing surface 15\n",
      "Info    : Meshing surface 15 (Extruded)\n",
      "Info    : Remeshing surface 37\n",
      "Info    : Meshing surface 37 (Extruded)\n",
      "Info    : Remeshing surface 41\n",
      "Info    : Meshing surface 41 (Extruded)\n",
      "Info    : Remeshing surface 49\n",
      "Info    : Meshing surface 49 (Extruded)\n",
      "Info    : Remeshing surface 45\n",
      "Info    : Meshing surface 45 (Extruded)\n",
      "Info    : Remeshing surface 19\n",
      "Info    : Meshing surface 19 (Extruded)\n",
      "Info    : Remeshing surface 27\n",
      "Info    : Meshing surface 27 (Extruded)\n",
      "Info    : Done meshing 3D (Wall 0.189843s, CPU 0.189839s)\n",
      "Info    : Optimizing mesh...\n",
      "Info    : Done optimizing mesh (Wall 0.00120652s, CPU 0.001206s)\n",
      "Info    : 11302 nodes 51042 elements\n",
      "Info    : Writing 't3.msh'...\n",
      "Info    : Done writing 't3.msh'\n"
     ]
    }
   ],
   "cell_type": "code",
   "source": [
    "gmsh.model.mesh.generate(3)\n",
    "gmsh.write(\"t3.msh\")"
   ],
   "metadata": {},
   "execution_count": 10
  },
  {
   "outputs": [],
   "cell_type": "code",
   "source": [
    "gmsh.finalize()"
   ],
   "metadata": {},
   "execution_count": 11
  },
  {
   "cell_type": "markdown",
   "source": [
    "---\n",
    "\n",
    "*This notebook was generated using [Literate.jl](https://github.com/fredrikekre/Literate.jl).*"
   ],
   "metadata": {}
  }
 ],
 "nbformat_minor": 3,
 "metadata": {
  "language_info": {
   "file_extension": ".jl",
   "mimetype": "application/julia",
   "name": "julia",
   "version": "1.5.4"
  },
  "kernelspec": {
   "name": "julia-1.5",
   "display_name": "Julia 1.5.4",
   "language": "julia"
  }
 },
 "nbformat": 4
}
